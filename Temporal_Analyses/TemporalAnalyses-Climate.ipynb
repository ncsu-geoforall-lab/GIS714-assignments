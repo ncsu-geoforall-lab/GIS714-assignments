{
 "cells": [
  {
   "cell_type": "markdown",
   "id": "63da2047",
   "metadata": {},
   "source": [
    "#### NCSU GIS 714: Geospatial Computation and Simulations\n",
    "\n",
    "## Spatio-temporal data handling and visualization in GRASS GIS: Part 1\n",
    "\n",
    "Contents:\n",
    "* Quick introduction to GRASS GIS and GRASS Temporal Framework\n",
    "* Climate data analysis: analyze and visualize North Carolina temperature and precipitation time series\n",
    "\n",
    "Additional Resources:\n",
    "* [GRASS GIS Overview and Manual](https://grass.osgeo.org/grass-stable/manuals/index.html)\n",
    "* [GRASS book](http://www.grassbook.org/)"
   ]
  },
  {
   "cell_type": "markdown",
   "id": "4f5fc8e5-c204-4320-84d0-530b6e14347f",
   "metadata": {},
   "source": [
    "#### Data:\n",
    "* location NC_spm_temporal workshop\n",
    "    * mapset climate_2000_2012: temperature and precipitation series for the whole North Carolina [1]\n",
    "    * mapset NagsHead_series: elevation data time series, derived from lidar data\n",
    "    * mapset centennial: DEM of part of Centennial campus, NC State University, derived from lidar data\n",
    "\n",
    "#### Terminology:\n",
    "* map in GRASS describes a spatial phenomenon, map is stored in GRASS database, it can be raster, vector, or 3D raster (other GIS systems often call this a layer)\n",
    "* 3D raster is a three dimensional raster, alternative names include voxel, voxel model and volume\n",
    "* spatio-temporal dataset in GRASS is a set of GRASS maps registered in GRASS temporal database\n",
    "* GRASS module is one function, procedure or algorithm, it can be also referred as command especially when also all parameters are given (other systems use also terms tool and program), module can be invoked from GUI, Python or system command line"
   ]
  },
  {
   "cell_type": "markdown",
   "id": "69b16045-5fc0-4b13-a16b-54fbdd70f618",
   "metadata": {},
   "source": [
    "## Climate Data Analysis"
   ]
  },
  {
   "cell_type": "markdown",
   "id": "27ab4e3f",
   "metadata": {},
   "source": [
    "### Start GRASS GIS\n",
    "\n",
    "Start GRASS with location NC_spm_temporal_workshop and mapset climate_2000_2012."
   ]
  },
  {
   "cell_type": "code",
   "execution_count": null,
   "id": "29accb9d",
   "metadata": {
    "tags": []
   },
   "outputs": [],
   "source": [
    "import subprocess\n",
    "import sys\n",
    "import json\n",
    "import matplotlib.pyplot as plt\n",
    "from datetime import datetime\n",
    "\n",
    "# Ask GRASS GIS where its Python packages are.\n",
    "# FOR WINDOWS:\n",
    "# grass_call = \"grass80\"\n",
    "# shell_setting = True\n",
    "# FOR MAC/LINUX\n",
    "grass_call = \"grass82\"\n",
    "shell_setting = True\n",
    "\n",
    "sys.path.append(\n",
    "    subprocess.check_output([grass_call, \"--config\", \"python_path\"], text=True, shell=shell_setting).strip()\n",
    ")\n",
    "\n",
    "# Import GRASS packages\n",
    "import grass.script as gs\n",
    "import grass.jupyter as gj\n",
    "\n",
    "# Start GRASS Session\n",
    "gj.init(\"./../data\", \"NC_spm_temporal_workshop\", \"climate_2000_2012\")"
   ]
  },
  {
   "cell_type": "markdown",
   "id": "1ea74123",
   "metadata": {},
   "source": [
    "Set computational region to the elevation raster."
   ]
  },
  {
   "cell_type": "code",
   "execution_count": null,
   "id": "033ce051",
   "metadata": {
    "tags": []
   },
   "outputs": [],
   "source": [
    "gs.run_command(\"g.region\", raster=\"elev_state_500m\")"
   ]
  },
  {
   "cell_type": "markdown",
   "id": "5adc8bc6-45cd-4121-a812-c0c08a7e02c7",
   "metadata": {},
   "source": [
    "First, we list available raster maps and display the first temperature and precipitation maps from the series to make ourselves familiar with the data. Hide or clear the output when you're done - it's quite long!"
   ]
  },
  {
   "cell_type": "code",
   "execution_count": null,
   "id": "c9db072d-2b39-43ba-9592-2a01371d8332",
   "metadata": {
    "tags": []
   },
   "outputs": [],
   "source": [
    "print(\"All rasters in climate_2000_2012 and PERMANENT mapsets:\")\n",
    "print(gs.read_command(\"g.list\", type=\"raster\"))"
   ]
  },
  {
   "cell_type": "code",
   "execution_count": null,
   "id": "a39e5025-40a4-40c0-8936-726a8c595fa2",
   "metadata": {
    "tags": []
   },
   "outputs": [],
   "source": [
    "print(\"All rasters ending in 'tempmean':\")\n",
    "print(gs.read_command(\"g.list\", type=\"raster\", pattern=\"*tempmean\"))"
   ]
  },
  {
   "cell_type": "code",
   "execution_count": null,
   "id": "fe6dfd74-42a8-4fc9-9315-34eae94b057a",
   "metadata": {
    "tags": []
   },
   "outputs": [],
   "source": [
    "print(\"All rasters ending in 'precip':\")\n",
    "print(gs.read_command(\"g.list\", type=\"raster\", pattern=\"*precip\"))"
   ]
  },
  {
   "cell_type": "code",
   "execution_count": null,
   "id": "5cd1d121-e5e5-4920-b60e-98e105627221",
   "metadata": {
    "tags": []
   },
   "outputs": [],
   "source": [
    "# Display first temperature map\n",
    "img = gj.Map(use_region=True)\n",
    "img.d_rast(map=\"2000_01_tempmean\")\n",
    "img.d_legend(raster=\"2000_01_tempmean\", at=(10, 90, 0, 2))\n",
    "# Display map\n",
    "img.show()"
   ]
  },
  {
   "cell_type": "code",
   "execution_count": null,
   "id": "d1e3acfc-5906-40f0-940f-91dbc11c9ee9",
   "metadata": {
    "tags": []
   },
   "outputs": [],
   "source": [
    "# Display first precipitation map\n",
    "img = gj.Map(use_region=True)\n",
    "img.d_rast(map=\"2000_01_precip\")\n",
    "img.d_legend(raster=\"2000_01_precip\", at=(10, 90, 0, 2))\n",
    "# Display map\n",
    "img.show()"
   ]
  },
  {
   "cell_type": "markdown",
   "id": "623644a4-2a5c-47c7-affc-1ee83fea8bfb",
   "metadata": {},
   "source": [
    "### Make Space-Time Datasets"
   ]
  },
  {
   "cell_type": "markdown",
   "id": "d35afe96",
   "metadata": {},
   "source": [
    "To better handle the long time series of maps, we create temporal datasets which serve as containers for the time series and we will further manipulate them instead of the individual maps. First, we create empty datasets of type strds (space-time raster dataset). Note, that we use absolute time."
   ]
  },
  {
   "cell_type": "code",
   "execution_count": null,
   "id": "f637c5b6",
   "metadata": {
    "tags": []
   },
   "outputs": [],
   "source": [
    "gs.run_command(\n",
    "    \"t.create\",\n",
    "    output=\"tempmean\",\n",
    "    type=\"strds\",\n",
    "    temporaltype=\"absolute\",\n",
    "    title=\"Average temperature\",\n",
    "    description=\"Monthly temperature average in NC [deg C]\",\n",
    ")\n",
    "\n",
    "gs.run_command(\n",
    "    \"t.create\",\n",
    "    output=\"precip_sum\",\n",
    "    type=\"strds\",\n",
    "    temporaltype=\"absolute\",\n",
    "    title=\"Preciptation\",\n",
    "    description=\"Monthly precipitation sums in NC [mm]\",\n",
    ")"
   ]
  },
  {
   "cell_type": "markdown",
   "id": "e82e9982",
   "metadata": {},
   "source": [
    "Now we register raster maps into yet empty space-time raster datasets with start date 2000-01-01 and interval time with increment 1 month. We use [g.list](https://grass.osgeo.org/grass80/manuals/g.list.html) again to list separately temperature and precipitation maps. Note that g.list lists maps alphabetically which in this case orders the maps chronologically which is what we need."
   ]
  },
  {
   "cell_type": "code",
   "execution_count": null,
   "id": "75930989-90f6-45ca-b4f2-3f4475b6b42b",
   "metadata": {
    "tags": []
   },
   "outputs": [],
   "source": [
    "# Create list of rasters to be registered to empty space time datasets\n",
    "tempmean_list = gs.read_command(\n",
    "    \"g.list\", type=\"raster\", pattern=\"*tempmean\", separator=\"comma\"\n",
    ").strip()\n",
    "\n",
    "precip_list = gs.read_command(\n",
    "    \"g.list\", type=\"raster\", pattern=\"*precip\", separator=\"comma\"\n",
    ").strip()\n",
    "\n",
    "# Register the rasters to the space time dataset created above\n",
    "gs.run_command(\n",
    "    \"t.register\",\n",
    "    input=\"tempmean\",\n",
    "    type=\"raster\",\n",
    "    start=\"2000-01-01\",\n",
    "    increment=\"1 months\",\n",
    "    maps=tempmean_list,\n",
    "    flags=\"i\",\n",
    ")\n",
    "\n",
    "gs.run_command(\n",
    "    \"t.register\",\n",
    "    input=\"precip_sum\",\n",
    "    type=\"raster\",\n",
    "    start=\"2000-01-01\",\n",
    "    increment=\"1 months\",\n",
    "    maps=precip_list,\n",
    "    flags=\"i\",\n",
    ")"
   ]
  },
  {
   "cell_type": "markdown",
   "id": "f7453ada",
   "metadata": {
    "tags": []
   },
   "source": [
    "### Dataset Animation and Exploration"
   ]
  },
  {
   "cell_type": "markdown",
   "id": "b30af7ae",
   "metadata": {},
   "source": [
    "Extract a small subset for visualization and exploration."
   ]
  },
  {
   "cell_type": "code",
   "execution_count": null,
   "id": "d130ad6b",
   "metadata": {
    "tags": []
   },
   "outputs": [],
   "source": [
    "gs.run_command(\n",
    "    \"t.rast.extract\",\n",
    "    input=\"precip_sum\",\n",
    "    output=\"precip_sum_2010\",\n",
    "    where=\"start_time >= '2010-01-01' and start_time < '2011-01-01'\",\n",
    ")\n",
    "\n",
    "gs.run_command(\n",
    "    't.rast.extract',\n",
    "    input='tempmean',\n",
    "    output='tempmean_2010',\n",
    "    where=\"start_time >= '2010-01-01' and start_time < '2011-01-01'\",\n",
    ")"
   ]
  },
  {
   "cell_type": "markdown",
   "id": "fcd74190",
   "metadata": {},
   "source": [
    "Set the color table for all rasters in the space time raster dataset"
   ]
  },
  {
   "cell_type": "code",
   "execution_count": null,
   "id": "9beb5ce8",
   "metadata": {
    "tags": []
   },
   "outputs": [],
   "source": [
    "gs.run_command(\"t.rast.colors\", input=\"precip_sum_2010\", color=\"precipitation_monthly\")"
   ]
  },
  {
   "cell_type": "markdown",
   "id": "ff75d0a9-cb5a-4c1e-8621-4ee5a1625dbe",
   "metadata": {},
   "source": [
    "Create and display animation. The `TimeSeriesMap` class contains visualization functions for GRASS space time dataset (strds or stvds) with either a time slider using `show` or by exporting as a GIF with `save`."
   ]
  },
  {
   "cell_type": "code",
   "execution_count": null,
   "id": "79f42a33",
   "metadata": {
    "tags": []
   },
   "outputs": [],
   "source": [
    "precip_map = gj.TimeSeriesMap(use_region=True)\n",
    "precip_map.add_raster_series(\"precip_sum_2010\")\n",
    "precip_map.d_legend(color=\"black\", at=(10, 90, 0, 2)) #Add legend\n",
    "precip_map.d_vect(map=\"boundary_county\", fill_color=\"none\")\n",
    "precip_map.d_barscale()\n",
    "precip_map.show()"
   ]
  },
  {
   "cell_type": "markdown",
   "id": "fe9d6560-ec31-40b9-b3a4-5526a41c3142",
   "metadata": {},
   "source": [
    "We can also get information about the dataset with [t.info](https://grass.osgeo.org/grass80/manuals/t.info.html)."
   ]
  },
  {
   "cell_type": "code",
   "execution_count": null,
   "id": "f5c3067e-7a94-4cca-8dbf-b3b655f682a9",
   "metadata": {
    "tags": []
   },
   "outputs": [],
   "source": [
    "print(gs.read_command(\"t.info\", input=\"precip_sum_2010\"))"
   ]
  },
  {
   "cell_type": "markdown",
   "id": "8d4e032e-2605-4cf9-a392-9fe7224b5458",
   "metadata": {},
   "source": [
    "Now we look at some other options to explore data using again [t.rast.list](https://grass.osgeo.org/grass80/manuals/t.rast.list.html). We can for example choose which columns to print, and the order of records. In this case, we print the time and monthly minimum of precipitation to get the information which months in 2010 had the highest maximum values. The default separator (pipe) can be changed with separator option."
   ]
  },
  {
   "cell_type": "code",
   "execution_count": null,
   "id": "227dc27d-6101-4417-b048-21f6cc73e06b",
   "metadata": {
    "tags": []
   },
   "outputs": [],
   "source": [
    "print(gs.read_command(\"t.rast.list\", input=\"precip_sum_2010\", columns=\"start_time,max\", order=\"max\", sep=\"tab\"))"
   ]
  },
  {
   "cell_type": "markdown",
   "id": "7b7a3f49-9f47-45df-acaf-ed0f795a9ce1",
   "metadata": {},
   "source": [
    "Here, we compute univariate statistics using [t.rast.univar](https://grass.osgeo.org/grass80/manuals/t.rast.univar.html) with temporal 'where' option to limit output to last 3 months of the year 2010."
   ]
  },
  {
   "cell_type": "code",
   "execution_count": null,
   "id": "1a771d7e-45c9-4bee-82ed-9c6dc8507fe7",
   "metadata": {
    "tags": []
   },
   "outputs": [],
   "source": [
    "print(gs.read_command(\"t.rast.univar\", input=\"tempmean_2010\", where=\"start_time > '2010-09-30'\"))"
   ]
  },
  {
   "cell_type": "markdown",
   "id": "55dd17a8-77fd-471c-8e67-b2166e78ca2c",
   "metadata": {},
   "source": [
    "#### *Question 1*\n",
    "\n",
    "Extract precipitation for the time period between 1.1.2004 and 1.1.2005 and compare the spatial distribution of rainfall, focusing on extreme events\n",
    "during this period and 1.1.2010-1.1.2011. Can you identify the time and location of an extreme event in 2004?"
   ]
  },
  {
   "cell_type": "code",
   "execution_count": null,
   "id": "48ebabd7-adc9-4526-b3b0-e720404edd20",
   "metadata": {},
   "outputs": [],
   "source": [
    "#### Your Answer Here"
   ]
  },
  {
   "cell_type": "markdown",
   "id": "ee32cfe4-224e-4be4-b3bb-7e09df1fea81",
   "metadata": {},
   "source": [
    "Finally we remove these two extracted spatio-temporal datasets. Note: in this case we remove just the \"container\", not the actual maps, as we can see from the output of g.list. Module t.remove enables to remove the actual data, too, using appropriate flags, but we will not do that now, since we still need the data."
   ]
  },
  {
   "cell_type": "code",
   "execution_count": null,
   "id": "dabd0ff1-b546-4442-b817-fe2ec4b161a0",
   "metadata": {
    "tags": []
   },
   "outputs": [],
   "source": [
    "gs.run_command(\"t.remove\", inputs=\"tempmean_2010,precip_sum_2010\", flags=\"f\")\n",
    "print(gs.read_command(\"t.list\", type=\"strds\"))"
   ]
  },
  {
   "cell_type": "code",
   "execution_count": null,
   "id": "3069516b-6d73-4cd6-ab47-1df617303743",
   "metadata": {
    "tags": []
   },
   "outputs": [],
   "source": [
    "print(gs.read_command(\"g.list\", type=\"raster\", pattern=\"2010*tempmean\"))"
   ]
  },
  {
   "cell_type": "markdown",
   "id": "48cf6019-de3a-4f24-868c-3ba2e8724f20",
   "metadata": {},
   "source": [
    "#### *Question 2*\n",
    "Remove the 2004-2005 precipitation spatio-temporal datasets that you created in Question 2."
   ]
  },
  {
   "cell_type": "code",
   "execution_count": null,
   "id": "8e22ff88-b5e6-48c3-bcf0-5ac12df0d2b8",
   "metadata": {},
   "outputs": [],
   "source": [
    "#### Your Answer Here"
   ]
  },
  {
   "cell_type": "markdown",
   "id": "a7d9c389-f7b7-43f2-af72-4dbeb24777c0",
   "metadata": {},
   "source": [
    "### Temporal Aggregation\n",
    "\n",
    "We will start by computing average temperature for each season of the year (we use term aggregation). We specify 'where' option to start aggregating the first of March 2000 because winter season 2000 is not complete."
   ]
  },
  {
   "cell_type": "code",
   "execution_count": null,
   "id": "0aef5962-63da-4c86-8c8d-f2b4b0853c2d",
   "metadata": {
    "tags": []
   },
   "outputs": [],
   "source": [
    "gs.run_command('t.rast.aggregate', input='tempmean',\n",
    "                output='tempmean_seasonal', base='tempmean_seasonal',\n",
    "                granularity=\"3 months\", method='average',\n",
    "                where=\"start_time >= '2000-03-01' and start_time < '2012-11-01'\")"
   ]
  },
  {
   "cell_type": "markdown",
   "id": "1406e473-8543-4dd9-9647-9504d7888de9",
   "metadata": {},
   "source": [
    "Extract summer periods and convert to degrees Fahrenheit. SQLite function strftime('%m', start_time) returns the month of the map start timestamp. Note that strftime function is not a GRASS function. It is specific to SQLite (temporal database) backend, you need to use something different if you are using PostgreSQL backend. Using nprocs=4 we are telling t.rast.extract to use 4 processes which will be distributed to 4 processor cores if available."
   ]
  },
  {
   "cell_type": "code",
   "execution_count": null,
   "id": "f1bdd165-52d4-45e4-b14b-796ee9b843e3",
   "metadata": {
    "tags": []
   },
   "outputs": [],
   "source": [
    "gs.run_command('t.rast.extract', input='tempmean_seasonal',\n",
    "                where=\"strftime('%m', start_time)='06'\",\n",
    "                expression=\"(tempmean_seasonal  * 9.0/5.0) + 32\",\n",
    "                output='tempmean_F_summer', base='tempmean_F_summer',\n",
    "                nprocs='4')"
   ]
  },
  {
   "cell_type": "markdown",
   "id": "2c0ffa95-1285-4bcb-a289-215a7b096b54",
   "metadata": {},
   "source": [
    "Now we will display an animation of summer temperatures in North Carolina and we will overlay static vector map of counties' boundaries. Before we display the maps, we set color table of the entire time series."
   ]
  },
  {
   "cell_type": "code",
   "execution_count": null,
   "id": "80c83da6-f376-4909-8caf-95591682dfdc",
   "metadata": {
    "tags": []
   },
   "outputs": [],
   "source": [
    "gs.run_command(\"t.rast.colors\", input=\"tempmean_F_summer\", color=\"fahrenheit\")"
   ]
  },
  {
   "cell_type": "code",
   "execution_count": null,
   "id": "57309598-5b32-4b55-947c-b0de9019e739",
   "metadata": {
    "tags": []
   },
   "outputs": [],
   "source": [
    "summer_map = gj.TimeSeriesMap(use_region=True)\n",
    "summer_map.add_raster_series(\"tempmean_F_summer\", fill_gaps=True)\n",
    "summer_map.d_legend(color=\"black\", at=(10, 90, 0, 2))\n",
    "summer_map.d_vect(map=\"boundary_county\", fill_color=\"none\")\n",
    "summer_map.show()"
   ]
  },
  {
   "cell_type": "markdown",
   "id": "308f9335-5b1c-4d38-abf9-200a5a49a9f9",
   "metadata": {},
   "source": [
    "Let's do the same aggregation with precipitation dataset in a different way. Aggregate data using time intervals of tempmean_F_summer. Convert millimeters to inches. The result will be mean of summer monthly precipitation in inches."
   ]
  },
  {
   "cell_type": "code",
   "execution_count": null,
   "id": "e7dab128-a5cb-456d-8478-0d3ec02372df",
   "metadata": {
    "tags": []
   },
   "outputs": [],
   "source": [
    "gs.run_command('t.rast.aggregate.ds', input='precip_sum',\n",
    "                sample='tempmean_F_summer', output='precip_summer',\n",
    "                base='precip_summer', method='average')\n",
    "gs.run_command('t.rast.mapcalc', inputs='precip_summer',\n",
    "                expression=\"precip_summer / 25.4\",\n",
    "                output='precip_inch_summer', base='precip_inch_summer',\n",
    "                nprocs='4')"
   ]
  },
  {
   "cell_type": "markdown",
   "id": "4b5a3073-b65a-4903-a8e8-21e6864e2b18",
   "metadata": {},
   "source": [
    "### Is precipitation and temperature correlated?"
   ]
  },
  {
   "cell_type": "markdown",
   "id": "9d93449b-db14-4416-93ad-b73c2cf90357",
   "metadata": {},
   "source": [
    "We will use [r.regression.series](https://grass.osgeo.org/grass80/manuals/t.rast.univar.html), which is a GRASS addon. Use g.extension to download it from GRASS Addons:"
   ]
  },
  {
   "cell_type": "code",
   "execution_count": null,
   "id": "be994a2a-72a1-49d7-ae44-114fcfde0e11",
   "metadata": {
    "tags": []
   },
   "outputs": [],
   "source": [
    "gs.run_command(\"g.extension\", extension=\"r.regression.series\")"
   ]
  },
  {
   "cell_type": "markdown",
   "id": "b75fd14a-2805-4aec-832a-4616a152aa23",
   "metadata": {},
   "source": [
    "Now we determine the correlation. Note that r.regression.series does not accept spatio-temporal datasets yet, just individual maps:"
   ]
  },
  {
   "cell_type": "code",
   "execution_count": null,
   "id": "8e908f01-5e51-4307-839f-640eb5699276",
   "metadata": {
    "tags": []
   },
   "outputs": [],
   "source": [
    "# Get list of rasters\n",
    "temp_list = gs.read_command(\"g.list\", type=\"raster\", pattern=\"tempmean_F_summer*\", separator=\"comma\").strip()\n",
    "precip_list = gs.read_command(\"g.list\", type=\"raster\", pattern=\"precip_inch_summer*\", separator=\"comma\").strip()\n",
    "\n",
    "gs.run_command(\"r.regression.series\", xseries=temp_list, yseries=precip_list, output=\"corr\", method=\"corcoef\")"
   ]
  },
  {
   "cell_type": "markdown",
   "id": "42514305-c340-475f-8cd0-d5adeba06f16",
   "metadata": {},
   "source": [
    "Set color table of corr raster map to differences color table."
   ]
  },
  {
   "cell_type": "code",
   "execution_count": null,
   "id": "fd0065ad-c747-42b5-adba-039fa0c2a995",
   "metadata": {
    "tags": []
   },
   "outputs": [],
   "source": [
    "gs.run_command(\"r.colors\", map=\"corr\", color=\"differences\")"
   ]
  },
  {
   "cell_type": "markdown",
   "id": "3eac518d-acdd-4733-b145-d5069b892613",
   "metadata": {},
   "source": [
    "Now we can explore the map corr showing mostly negative spatial correlation between temperature and precipitation during summer."
   ]
  },
  {
   "cell_type": "code",
   "execution_count": null,
   "id": "52562b92-0fba-40c7-9481-c8da902a7381",
   "metadata": {
    "tags": []
   },
   "outputs": [],
   "source": [
    "img = gj.Map(use_region=True)\n",
    "img.d_rast(map=\"corr\")\n",
    "img.d_vect(map=\"boundary_county\", fill_color=\"none\")\n",
    "img.d_legend(raster=\"corr\")\n",
    "img.show()"
   ]
  },
  {
   "cell_type": "markdown",
   "id": "afa5270c-8b57-48d3-ba85-bccb65c297b1",
   "metadata": {},
   "source": [
    "### Plot min/max values of summer temperature and precipitation"
   ]
  },
  {
   "cell_type": "code",
   "execution_count": null,
   "id": "9d0158b5-80ff-44e7-b260-547fdd944210",
   "metadata": {
    "tags": []
   },
   "outputs": [],
   "source": [
    "temperatures = json.loads(gs.read_command(\"t.rast.list\", input=\"tempmean_F_summer\", columns=\"start_time,min,max\", format=\"json\"))\n",
    "\n",
    "start_times=[]\n",
    "mins=[]\n",
    "maxs=[]\n",
    "\n",
    "for item in temperatures[\"data\"]:\n",
    "    start_times.append(datetime.strptime(item[\"start_time\"], '%Y-%m-%d %H:%M:%S'))\n",
    "    mins.append(item[\"min\"])\n",
    "    maxs.append(item[\"max\"])"
   ]
  },
  {
   "cell_type": "code",
   "execution_count": null,
   "id": "33793871-4dd2-477f-9e18-12ae8adb4bda",
   "metadata": {
    "tags": []
   },
   "outputs": [],
   "source": [
    "plt.rcParams[\"figure.figsize\"] = (15, 5)\n",
    "plt.grid()\n",
    "plt.plot(start_times, mins, color='maroon', marker='o', label=\"Minimum\")\n",
    "plt.plot(start_times, maxs, color='darkblue', marker='o', label=\"Maximum\")\n",
    "plt.show()"
   ]
  },
  {
   "cell_type": "markdown",
   "id": "d07ed71b-b938-42ae-9c09-5475018bf7ed",
   "metadata": {},
   "source": [
    "### Plot temperatures in Raleigh and Ashville"
   ]
  },
  {
   "cell_type": "markdown",
   "id": "fec08007-39cb-4b3e-921b-7f214ec44f19",
   "metadata": {},
   "source": [
    "Now we will plot temperatures in Raleigh and Ashville. You can find vector map towns in mapset PERMANENT. It contains 2 points representing Raleigh and Ashville. Using t.vect.observe.strds, we create a space-time vector dataset with values of summer temperature in those two locations stored in the attribute tables:"
   ]
  },
  {
   "cell_type": "code",
   "execution_count": null,
   "id": "c588aff7-3223-40d1-b6af-6684ff8dc537",
   "metadata": {
    "tags": []
   },
   "outputs": [],
   "source": [
    "gs.run_command('t.vect.observe.strds', input='towns',\n",
    "                strds='tempmean_F_summer', output='towns_tempmean_summer',\n",
    "                vector_output='towns_summer', column='tempmean')"
   ]
  },
  {
   "cell_type": "code",
   "execution_count": null,
   "id": "87771537-b4c2-4914-9c1e-d53dbb7c2338",
   "metadata": {
    "tags": []
   },
   "outputs": [],
   "source": [
    "raleigh = gs.read_command(\"t.vect.db.select\", input=\"towns_tempmean_summer\", columns=\"tempmean\", separator=\"comma\", where=\"cat = 1\")\n",
    "asheville = gs.read_command(\"t.vect.db.select\", input=\"towns_tempmean_summer\", columns=\"tempmean\", separator=\"comma\", where=\"cat = 2\")"
   ]
  },
  {
   "cell_type": "markdown",
   "id": "e190b901-1610-4455-bb13-d2df1901db5c",
   "metadata": {},
   "source": [
    "Parse strings and lot the values using matplotlib."
   ]
  },
  {
   "cell_type": "code",
   "execution_count": null,
   "id": "24d5eedb-0c30-44c7-bf51-7c95eee11bb4",
   "metadata": {
    "tags": []
   },
   "outputs": [],
   "source": [
    "def parse_csv_string(string):\n",
    "    rows = string.split(\"\\n\")[1:-1] #ignore the headers and empty last row\n",
    "\n",
    "    start_times=[]\n",
    "    end_times=[]\n",
    "    tempmeans=[]\n",
    "\n",
    "    for row in rows:\n",
    "        row = row.split(\",\")\n",
    "        start_times.append(datetime.strptime(row[0], '%Y-%m-%d %H:%M:%S'))\n",
    "        end_times.append(row[1])\n",
    "        tempmeans.append(float(row[2]))\n",
    "    return start_times, end_times, tempmeans"
   ]
  },
  {
   "cell_type": "code",
   "execution_count": null,
   "id": "eb4600ed-8003-4499-b91c-bc932a39a6ea",
   "metadata": {
    "tags": []
   },
   "outputs": [],
   "source": [
    "ral_start_times, ral_end_times, ral_tempmeans = parse_csv_string(raleigh)\n",
    "ash_start_times, ash_end_times, ash_tempmeans = parse_csv_string(asheville)"
   ]
  },
  {
   "cell_type": "code",
   "execution_count": null,
   "id": "fd0f95b3-a805-4a14-97de-83f3abf65a51",
   "metadata": {
    "tags": []
   },
   "outputs": [],
   "source": [
    "plt.rcParams[\"figure.figsize\"] = (15, 5)\n",
    "plt.grid()\n",
    "plt.plot(ral_start_times, ral_tempmeans, color='maroon', marker='o', label=\"Raleigh\")\n",
    "plt.plot(ash_start_times, ash_tempmeans, color='darkblue', marker='o', label=\"Asheville\")\n",
    "plt.show()"
   ]
  },
  {
   "cell_type": "markdown",
   "id": "800d2182-dab8-4503-88d3-86db07e501e0",
   "metadata": {
    "tags": []
   },
   "source": [
    "### References\n",
    "\n",
    "[1] State Climate Office of North Carolina, http://convection.meas.ncsu.edu:8080/thredds/catalog/catalog.html\n",
    "\n",
    "\n",
    "### Additional Information\n",
    "* [Website](https://github.com/ncsu-geoforall-lab/geospatial-simulations-course)\n",
    "    \n",
    "* [Computing Help](https://help.ncsu.edu/)\n",
    "    \n",
    "* [GIST Home](https://geospatial.ncsu.edu/)\n",
    "    \n",
    "* [Disclaimer](https://www.ncsu.edu/policies/prr-disclaimer.php)\n",
    "    \n",
    "* [Accessibility](https://oit.ncsu.edu/itaccess)\n",
    "\n",
    "* License: 2018 [CC BY-SA](https://creativecommons.org/licenses/by-sa/4.0/)\n",
    "  \n",
    "* [NCSU GeoForAll Lab](https://geospatial.ncsu.edu/geoforall/)"
   ]
  },
  {
   "cell_type": "code",
   "execution_count": null,
   "id": "66aae693-44f1-4655-8c9b-2d154028c7b7",
   "metadata": {},
   "outputs": [],
   "source": []
  }
 ],
 "metadata": {
  "kernelspec": {
   "display_name": "Python 3 (ipykernel)",
   "language": "python",
   "name": "python3"
  },
  "language_info": {
   "codemirror_mode": {
    "name": "ipython",
    "version": 3
   },
   "file_extension": ".py",
   "mimetype": "text/x-python",
   "name": "python",
   "nbconvert_exporter": "python",
   "pygments_lexer": "ipython3",
   "version": "3.9.5"
  }
 },
 "nbformat": 4,
 "nbformat_minor": 5
}
