{
 "cells": [
  {
   "cell_type": "markdown",
   "id": "63da2047",
   "metadata": {},
   "source": [
    "#### NCSU GIS 714: Geospatial Computation and Simulations\n",
    "\n",
    "## Spatio-temporal data handling and visualization in GRASS GIS\n",
    "\n",
    "Contents:\n",
    "* Visualization of solar radiation: compute and visualize solar radiation dynamics using NC State Centennial Campus lidar data\n",
    "\n",
    "Additional Resources:\n",
    "* [GRASS GIS overview and manual](https://grass.osgeo.org/grass-stable/manuals/index.html)\n",
    "* [GRASS book](http://www.grassbook.org/)"
   ]
  },
  {
   "cell_type": "markdown",
   "id": "27ab4e3f",
   "metadata": {},
   "source": [
    "## Visualization of Solar Radiation\n",
    "\n",
    "### Start GRASS GIS\n",
    "Start GRASS with location NC_spm_temporal_workshop and mapset centennial."
   ]
  },
  {
   "cell_type": "code",
   "execution_count": null,
   "id": "29accb9d",
   "metadata": {},
   "outputs": [],
   "source": [
    "import subprocess\n",
    "import sys\n",
    "from datetime import datetime\n",
    "\n",
    "# Ask GRASS GIS where its Python packages are.\n",
    "# Choose GRASS based on operating system.\n",
    "if sys.platform == \"linux\":\n",
    "    grass_call = \"grass\"\n",
    "    shell_setting = False\n",
    "elif sys.platform == \"darwin\":\n",
    "    from pathlib import Path\n",
    "    grass_call = list(Path(\"/Applications\").glob(\"GRASS*\"))[0] / \"Contents\" / \"Resources\" / \"bin\" / \"grass\"\n",
    "    shell_setting = False\n",
    "elif sys.platform == \"win32\":\n",
    "    grass_call = \"grass80\"\n",
    "    shell_setting = True\n",
    "\n",
    "sys.path.append(\n",
    "    subprocess.check_output([grass_call, \"--config\", \"python_path\"], text=True, shell=shell_setting).strip()\n",
    ")\n",
    "\n",
    "# Import GRASS packages\n",
    "import grass.script as gs\n",
    "import grass.jupyter as gj\n",
    "\n",
    "# Start GRASS Session\n",
    "gj.init(\"../data\", \"NC_spm_temporal_workshop\", \"centennial\")"
   ]
  },
  {
   "cell_type": "markdown",
   "id": "1ea74123",
   "metadata": {},
   "source": [
    "Set computational region to the elevation raster."
   ]
  },
  {
   "cell_type": "code",
   "execution_count": null,
   "id": "033ce051",
   "metadata": {},
   "outputs": [],
   "source": [
    "gs.run_command(\"g.region\", raster=\"elev_lid_small\")"
   ]
  },
  {
   "cell_type": "markdown",
   "id": "35641f27-9843-42f5-bc0d-3cb5d644be10",
   "metadata": {},
   "source": [
    "We will compute solar radiation during a day for a part of North Carolina State University Centennial Campus. Then we will visualize the change of solar radiation as a 3D animation. If you don't have r.sun.hourly, download it:"
   ]
  },
  {
   "cell_type": "code",
   "execution_count": null,
   "id": "5583ae86-f4f9-4213-afd2-822b295f0608",
   "metadata": {},
   "outputs": [],
   "source": [
    "gs.run_command(\"g.extension\", extension=\"r.sun.hourly\")"
   ]
  },
  {
   "cell_type": "markdown",
   "id": "1831e0a4-d02e-4f52-96ac-951a6a2464ca",
   "metadata": {},
   "source": [
    "Convert the today's date (or any other date) to day of year."
   ]
  },
  {
   "cell_type": "code",
   "execution_count": null,
   "id": "1e89f327-281a-42be-8fa4-ce99cb704717",
   "metadata": {},
   "outputs": [],
   "source": [
    "day = datetime.now().timetuple().tm_yday\n",
    "year = \"2022\"\n",
    "# or for an arbitrary day:\n",
    "# day = datetime(2014, 6, 21).timetuple().tm_yday\n",
    "# year = \"2014\""
   ]
  },
  {
   "cell_type": "markdown",
   "id": "c795fa7e-b77f-4296-b8de-ffbcb14ad82d",
   "metadata": {},
   "source": [
    "Compute beam irradiance raster series (be patient) with the following command. The time series is automatically registered into a space-time raster dataset."
   ]
  },
  {
   "cell_type": "code",
   "execution_count": null,
   "id": "1a6e1c01-8ad3-4fa8-b366-e6cddf5439a3",
   "metadata": {},
   "outputs": [],
   "source": [
    "gs.run_command('r.sun.hourly', flags='t', elevation='elev_lid_small',\n",
    "                start_time='6', end_time='20', day=day, year=year,\n",
    "                beam_rad_basename='beam')"
   ]
  },
  {
   "cell_type": "markdown",
   "id": "0740f750-e3d9-4d68-ad64-84164e7e338c",
   "metadata": {},
   "source": [
    "Set custom color table for just created dataset \"beam\":"
   ]
  },
  {
   "cell_type": "code",
   "execution_count": null,
   "id": "d2bf559d-08a4-4da6-9bdc-9427ee9626d2",
   "metadata": {},
   "outputs": [],
   "source": [
    "gs.run_command(\"t.rast.colors\", input=\"beam\", rules=\"./rules.txt\")"
   ]
  },
  {
   "cell_type": "markdown",
   "id": "ecc072bd-6d4f-4013-b99d-0e302a8d2ede",
   "metadata": {},
   "source": [
    "Visualize sunrise in 3D:"
   ]
  },
  {
   "cell_type": "code",
   "execution_count": null,
   "id": "02b621aa-3fcf-4461-9b6c-478158952e8a",
   "metadata": {},
   "outputs": [],
   "source": [
    "sunrise_viz = gj.Map3D()\n",
    "sunrise_viz.render(elevation_map=\"elev_lid_small\", color_map=\"beam_06.00\", perspective=20, height=600, position=\"0.7,0.1\", resolution_fine=1)\n",
    "sunrise_viz.overlay.d_legend(raster=\"beam_06.00\", at=(52,95,92,95), title=\"W/m^2\")\n",
    "sunrise_viz.show()"
   ]
  },
  {
   "cell_type": "markdown",
   "id": "fc92088f-d6ed-4475-a58a-afad8cf388d2",
   "metadata": {},
   "source": [
    "Create animation of solar radiation over day:"
   ]
  },
  {
   "cell_type": "code",
   "execution_count": null,
   "id": "16ed228a-d8b7-42a8-a89a-8a10718256dd",
   "metadata": {},
   "outputs": [],
   "source": [
    "solar_map = gj.TimeSeriesMap(width=800, height=500)\n",
    "solar_map.add_raster_series(\"beam\")\n",
    "solar_map.d_legend(color=\"black\", at=(5,85,0,3), title=\"W/m^2\")\n",
    "solar_map.show()"
   ]
  },
  {
   "cell_type": "markdown",
   "id": "800d2182-dab8-4503-88d3-86db07e501e0",
   "metadata": {
    "tags": []
   },
   "source": [
    "### Additional Information\n",
    "* [Website](https://github.com/ncsu-geoforall-lab/geospatial-simulations-course)\n",
    "    \n",
    "* [Computing Help](https://help.ncsu.edu/)\n",
    "    \n",
    "* [GIST Home](https://geospatial.ncsu.edu/)\n",
    "    \n",
    "* [Disclaimer](https://www.ncsu.edu/policies/prr-disclaimer.php)\n",
    "    \n",
    "* [Accessibility](https://oit.ncsu.edu/itaccess)\n",
    "\n",
    "* License: 2018 [CC BY-SA](https://creativecommons.org/licenses/by-sa/4.0/)\n",
    "  \n",
    "* [NCSU GeoForAll Lab](https://geospatial.ncsu.edu/geoforall/)"
   ]
  },
  {
   "cell_type": "code",
   "execution_count": null,
   "id": "975a2baa-bb83-41db-b3dd-5ab706df47df",
   "metadata": {},
   "outputs": [],
   "source": []
  }
 ],
 "metadata": {
  "kernelspec": {
   "display_name": "Python 3 (ipykernel)",
   "language": "python",
   "name": "python3"
  },
  "language_info": {
   "codemirror_mode": {
    "name": "ipython",
    "version": 3
   },
   "file_extension": ".py",
   "mimetype": "text/x-python",
   "name": "python",
   "nbconvert_exporter": "python",
   "pygments_lexer": "ipython3",
   "version": "3.10.9"
  }
 },
 "nbformat": 4,
 "nbformat_minor": 5
}
