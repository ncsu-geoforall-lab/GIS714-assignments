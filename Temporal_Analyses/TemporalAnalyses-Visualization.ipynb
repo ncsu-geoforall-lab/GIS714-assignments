{
 "cells": [
  {
   "cell_type": "markdown",
   "id": "63da2047",
   "metadata": {},
   "source": [
    "#### NCSU GIS 714: Geospatial Computation and Simulations\n",
    "\n",
    "## Spatio-temporal data handling and visualization in GRASS GIS: Part 2\n",
    "\n",
    "Contents:\n",
    "* Terrain time series visualization: process Nags Head coastal terrain time series and visualize space-time cube\n",
    "\n",
    "Additional Resources:\n",
    "* [GRASS GIS Overview and Manual](https://grass.osgeo.org/grass-stable/manuals/index.html)\n",
    "* [GRASS book](http://www.grassbook.org/)"
   ]
  },
  {
   "cell_type": "markdown",
   "id": "27ab4e3f",
   "metadata": {},
   "source": [
    "## Terrain time series visualization\n",
    "\n",
    "### Start GRASS GIS\n",
    "Start grass7 with location NC_spm_temporal_workshop and mapset NagsHead_series."
   ]
  },
  {
   "cell_type": "code",
   "execution_count": null,
   "id": "29accb9d",
   "metadata": {},
   "outputs": [],
   "source": [
    "import subprocess\n",
    "import sys\n",
    "\n",
    "# Ask GRASS GIS where its Python packages are.\n",
    "# Choose GRASS based on operating system.\n",
    "if sys.platform == \"linux\":\n",
    "    grass_call = \"grass\"\n",
    "    shell_setting = False\n",
    "elif sys.platform == \"darwin\":\n",
    "    from pathlib import Path\n",
    "    grass_call = list(Path(\"/Applications\").glob(\"GRASS*\"))[0] / \"Contents\" / \"Resources\" / \"bin\" / \"grass\"\n",
    "    shell_setting = False\n",
    "elif sys.platform == \"win32\":\n",
    "    grass_call = \"grass80\"\n",
    "    shell_setting = True\n",
    "\n",
    "\n",
    "sys.path.append(\n",
    "    subprocess.check_output([grass_call, \"--config\", \"python_path\"], text=True, shell=shell_setting).strip()\n",
    ")\n",
    "\n",
    "# Import GRASS packages\n",
    "import grass.script as gs\n",
    "import grass.jupyter as gj\n",
    "\n",
    "# Start GRASS Session\n",
    "gj.init(\"../data\", \"NC_spm_temporal_workshop\", \"NagsHead_series\")"
   ]
  },
  {
   "cell_type": "markdown",
   "id": "d399212c-8190-4a94-a4b7-a02b9fd4ff3a",
   "metadata": {},
   "source": [
    "### Time series registration and visualization\n",
    "First, we create an empty space-time raster dataset. We will use relative time with years as units."
   ]
  },
  {
   "cell_type": "code",
   "execution_count": null,
   "id": "1e6a7516-4f11-4f47-8543-16977d1dd351",
   "metadata": {},
   "outputs": [],
   "source": [
    "gs.run_command('t.create', output='NagsHead_99_08', type='strds',\n",
    "                temporaltype='relative', title=\"Nags Head elevation series\",\n",
    "                description=\"from 1999 to 2008 with gaps\")"
   ]
  },
  {
   "cell_type": "markdown",
   "id": "c66d391c-bcd6-47e3-a5b3-d4afd3ae569d",
   "metadata": {},
   "source": [
    "Register maps in the dataset using the list of maps bellow. Each map has an associated year, stored in the NH.txt file. Open the file and check out the contents. "
   ]
  },
  {
   "cell_type": "code",
   "execution_count": null,
   "id": "2f7345be-abf5-424a-88dd-d22f1d0d3215",
   "metadata": {},
   "outputs": [],
   "source": [
    "gs.run_command(\"t.register\", input=\"NagsHead_99_08\", type=\"raster\", file=\"./NH.txt\", unit=\"years\")"
   ]
  },
  {
   "cell_type": "markdown",
   "id": "20eaaf2e-b793-4de6-b1b6-98bce53d07a8",
   "metadata": {},
   "source": [
    "Since there are gaps in the dataset, we decided to interpolate missing data. The interpolated maps are already in the mapset so we will skip this step now. (The maps were linearly interpolated with [r.series.interp](https://grass.osgeo.org/grass80/manuals/r.series.interp.html). For interval data, you could use [t.rast.gapfill](https://grass.osgeo.org/grass80/manuals/t.rast.gapfill.html).\n",
    "\n",
    "We still have to register interpolated maps to the existing dataset."
   ]
  },
  {
   "cell_type": "code",
   "execution_count": null,
   "id": "a128cd8b-506f-495b-a0ad-1b961e337a27",
   "metadata": {},
   "outputs": [],
   "source": [
    "gs.run_command(\"t.register\", input=\"NagsHead_99_08\", file=\"./interp.txt\", unit=\"years\")"
   ]
  },
  {
   "cell_type": "markdown",
   "id": "c40d0928-a28b-459e-a78a-824da21f7883",
   "metadata": {},
   "source": [
    "Check what you have now in NagsHead_99_08 dataset."
   ]
  },
  {
   "cell_type": "code",
   "execution_count": null,
   "id": "8e1c8626-6303-40f6-a912-c041d85f88b2",
   "metadata": {},
   "outputs": [],
   "source": [
    "print(gs.read_command(\"t.rast.list\", input=\"NagsHead_99_08\"))"
   ]
  },
  {
   "cell_type": "markdown",
   "id": "463ff6d3-9671-4cda-a5fc-84afaf8b3235",
   "metadata": {},
   "source": [
    "Set the same color table for all maps (copy the color table from map NH_1999_1m)."
   ]
  },
  {
   "cell_type": "code",
   "execution_count": null,
   "id": "a377a743-c2ee-4703-9a92-a37ae5249a20",
   "metadata": {},
   "outputs": [],
   "source": [
    "gs.run_command(\"t.rast.colors\", input=\"NagsHead_99_08\", raster=\"NH_1999_1m\")"
   ]
  },
  {
   "cell_type": "markdown",
   "id": "b4e6b705-3778-4acb-9caa-3e7b2aa8b284",
   "metadata": {},
   "source": [
    "Display animation of space-time raster data set NagsHead_99_08"
   ]
  },
  {
   "cell_type": "code",
   "execution_count": null,
   "id": "c4df27b4-27b4-4287-b211-79311dbdb3b9",
   "metadata": {},
   "outputs": [],
   "source": [
    "nh_animation = gj.TimeSeriesMap()\n",
    "nh_animation.add_raster_series(\"NagsHead_99_08\")\n",
    "nh_animation.d_legend(color=\"black\", at=(12,72,0,3), fontsize=12)\n",
    "nh_animation.d_barscale(length=250)\n",
    "nh_animation.show()"
   ]
  },
  {
   "cell_type": "markdown",
   "id": "9bc9bea2-8bce-4a40-b0b5-9030a3f50972",
   "metadata": {},
   "source": [
    "### Space-time cube representation\n",
    "\n",
    "Space-time cube is 3-dimensional representation where z-coordinate is time. We use 3D raster to represent space-time cube with z-coordinates as values of the 3D raster to explore the evolution of terrain in time [1, 2, 3].\n",
    "\n",
    "To create space-time cube we vertically stack the series of digital elevation models using t.rast.to.rast3:"
   ]
  },
  {
   "cell_type": "code",
   "execution_count": null,
   "id": "c27a1e68-e82d-4b4d-bfe2-3d5a3bdb4bb2",
   "metadata": {},
   "outputs": [],
   "source": [
    "# convert strds to 3D raster\n",
    "gs.run_command(\"t.rast.to.rast3\", input=\"NagsHead_99_08\", output=\"NagsHead_99_08\")\n",
    "\n",
    "# check 3D extent and min and max values\n",
    "print(gs.read_command(\"r3.info\", map=\"NagsHead_99_08\", flags=\"g\"))"
   ]
  },
  {
   "cell_type": "code",
   "execution_count": null,
   "id": "5221d648-bfea-4d6c-8374-796668fa93b8",
   "metadata": {},
   "outputs": [],
   "source": [
    "# set region to this 3D raster for further processing\n",
    "gs.run_command(\"g.region\", raster_3d=\"NagsHead_99_08\", flags=\"p3\")"
   ]
  },
  {
   "cell_type": "markdown",
   "id": "fea27c0c-b34f-4bdd-90dd-5108f5ed90db",
   "metadata": {},
   "source": [
    "Now, create a new 3D raster which will be used for coloring isosurfaces by years. Using [t.rast.mapcalc](https://grass.osgeo.org/grass80/manuals/t.rast.mapcalc.html), we create a series of single-value raster maps for each year and then we stack them into a 3D raster."
   ]
  },
  {
   "cell_type": "code",
   "execution_count": null,
   "id": "93ff6cf5-f341-4efb-99dc-f618aba6acc9",
   "metadata": {},
   "outputs": [],
   "source": [
    "gs.run_command('t.rast.mapcalc', inputs='NagsHead_99_08',\n",
    "                expression=\"start_time() + 1999\", output='NagsHead_years',\n",
    "                basename='NagsHead_years', nprocs='4')\n",
    "\n",
    "gs.run_command('t.rast.to.rast3', input='NagsHead_years',\n",
    "                output='NagsHead_years')"
   ]
  },
  {
   "cell_type": "markdown",
   "id": "392f8efc-4da7-490a-b002-31f17f87013c",
   "metadata": {},
   "source": [
    "Now set the color tables of the space-time cube 3D raster and the second 3D raster."
   ]
  },
  {
   "cell_type": "code",
   "execution_count": null,
   "id": "a07fe04c-683a-43fc-bfcd-38ba88c8ab13",
   "metadata": {},
   "outputs": [],
   "source": [
    "gs.run_command('r3.colors', map='NagsHead_99_08', color='elevation')\n",
    "gs.run_command('r3.colors', map='NagsHead_years', color='bcyr')"
   ]
  },
  {
   "cell_type": "markdown",
   "id": "44a317b2-0e7c-49d0-ae25-d5b7967fc567",
   "metadata": {},
   "source": [
    "Set lower resolution to speed up 3D rendering."
   ]
  },
  {
   "cell_type": "code",
   "execution_count": null,
   "id": "761367d4-e2c7-4775-87a2-99d14fbc0bc3",
   "metadata": {},
   "outputs": [],
   "source": [
    "gs.run_command('g.region', flags='p3', res3='3', tbres='1')"
   ]
  },
  {
   "cell_type": "markdown",
   "id": "6f982f1a-f08e-41e1-939d-aaecc176acf1",
   "metadata": {},
   "source": [
    "We use [grass.jupyter.Map3D](https://grass.osgeo.org/grass81/manuals/libpython/grass.jupyter.html#module-grass.jupyter.map3d) to create the space-time cube representation. The `render()` method passes its keyword arguements (kwargs) to [m.nviz.image](https://grass.osgeo.org/grass80/manuals/m.nviz.image.html), the 3D rendering module for GRASS GIS."
   ]
  },
  {
   "cell_type": "code",
   "execution_count": null,
   "id": "c19f19e6-53eb-4450-bfbc-3a8a6566ef01",
   "metadata": {},
   "outputs": [],
   "source": [
    "cube_viz = gj.Map3D(use_region=True)\n",
    "cube_viz.render(elevation_map=\"NH_2008_1m_0.05\", color_map=\"NH_2008_1m_0.05\", volume=\"NagsHead_99_08\", isosurf_level=\"1:11\", isosurf_color_map=\"NagsHead_years\", volume_resolution=1, flags=\"n\", resolution_fine=1, height=100, zexag=20, perspective=15, position=\"0.7,0.1\")\n",
    "cube_viz.overlay.d_legend(rast3d=\"NagsHead_years\", at=(5,50,7,10), use=\"1999,2000,2001,2002,2003,2004,2005,2006,2007,2008\", flags=\"f\")\n",
    "cube_viz.show()"
   ]
  },
  {
   "cell_type": "markdown",
   "id": "800d2182-dab8-4503-88d3-86db07e501e0",
   "metadata": {
    "tags": []
   },
   "source": [
    "### References\n",
    "\n",
    "[1] Mitasova, H., Harmon, R. S., Weaver, K. J., Lyons, N. J., Overton, M. F. (2012). Scientific visualization of landscapes and landforms. Geomorphology, 137(1), 122–137.\n",
    "\n",
    "[2] Mitasova, H., Hardin, E., Starek, M. J., Harmon, R. S., Overton, M. F. (2011). Landscape dynamics from LiDAR data time series. Geomorphometry, 3–6.\n",
    "\n",
    "[3] Starek, M.J., Mitasova H., Hardin, E., Overton, M.F., Harmon, R.S. (2011). Modeling and analysis of landscape evolution using airborne, terrestrial, and laboratory laser scanning. Geosphere, 7(6), p. 1340–1356.\n",
    "\n",
    "### Additional Information\n",
    "* [Website](https://github.com/ncsu-geoforall-lab/geospatial-simulations-course)\n",
    "    \n",
    "* [Computing Help](https://help.ncsu.edu/)\n",
    "    \n",
    "* [GIST Home](https://geospatial.ncsu.edu/)\n",
    "    \n",
    "* [Disclaimer](https://www.ncsu.edu/policies/prr-disclaimer.php)\n",
    "    \n",
    "* [Accessibility](https://oit.ncsu.edu/itaccess)\n",
    "\n",
    "* License: 2018 [CC BY-SA](https://creativecommons.org/licenses/by-sa/4.0/)\n",
    "  \n",
    "* [NCSU GeoForAll Lab](https://geospatial.ncsu.edu/geoforall/)"
   ]
  },
  {
   "cell_type": "code",
   "execution_count": null,
   "id": "975a2baa-bb83-41db-b3dd-5ab706df47df",
   "metadata": {},
   "outputs": [],
   "source": []
  }
 ],
 "metadata": {
  "kernelspec": {
   "display_name": "Python 3 (ipykernel)",
   "language": "python",
   "name": "python3"
  },
  "language_info": {
   "codemirror_mode": {
    "name": "ipython",
    "version": 3
   },
   "file_extension": ".py",
   "mimetype": "text/x-python",
   "name": "python",
   "nbconvert_exporter": "python",
   "pygments_lexer": "ipython3",
   "version": "3.10.9"
  }
 },
 "nbformat": 4,
 "nbformat_minor": 5
}
