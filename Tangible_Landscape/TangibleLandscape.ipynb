{
 "cells": [
  {
   "cell_type": "markdown",
   "id": "ac4fce4a",
   "metadata": {},
   "source": [
    "#### NCSU GIS 714: Geospatial Computation and Simulations\n",
    "\n",
    "# Tangible Landscape\n",
    "\n",
    "Contents:\n",
    "* Start GRASS GIS.\n",
    "* Create a Python function which calls a tool from GRASS GIS.\n",
    "* Create a Python script.\n",
    "* Create a Python file for use in Tangible Landscape.\n",
    "* Create a complete Tangible Landscape activity."
   ]
  },
  {
   "cell_type": "markdown",
   "id": "6d4e6dc3",
   "metadata": {},
   "source": [
    "## Start GRASS GIS"
   ]
  },
  {
   "cell_type": "code",
   "execution_count": null,
   "id": "fa42d4dd",
   "metadata": {},
   "outputs": [],
   "source": [
    "import os\n",
    "import subprocess\n",
    "import sys\n",
    "\n",
    "# Ask GRASS GIS where its Python packages are.\n",
    "# FOR WINDOWS:\n",
    "# grass_call = \"grass80\"\n",
    "# FOR MAC/LINUX\n",
    "grass_call = \"grass\"\n",
    "\n",
    "shell_setting = sys.platform.startswith('win')\n",
    "sys.path.append(\n",
    "    subprocess.check_output([grass_call, \"--config\", \"python_path\"], text=True, shell=shell_setting).strip()\n",
    ")\n",
    "\n",
    "# Import GRASS packages\n",
    "import grass.script as gs\n",
    "import grass.jupyter as gj\n",
    "\n",
    "# Start GRASS Session\n",
    "gj.init(\"~/data/nc_spm_08_grass7/user1\")"
   ]
  },
  {
   "cell_type": "markdown",
   "id": "5381c8a9",
   "metadata": {},
   "source": [
    "## Python function\n",
    "\n",
    "We will create a Python function which will call a GRASS tool called _r.slope.aspect_. First, we will test the code without using a function.\n",
    "\n",
    "Before run the code, we will set the computational region to the _elevation_ raster which we will use in the examples:"
   ]
  },
  {
   "cell_type": "code",
   "execution_count": null,
   "id": "636cb030",
   "metadata": {},
   "outputs": [],
   "source": [
    "gs.run_command(\"g.region\", raster=\"elevation\")"
   ]
  },
  {
   "cell_type": "markdown",
   "id": "6fd16aa7",
   "metadata": {},
   "source": [
    "Now, it is time to test the analysis which in our case is just one call of the _r.slope.aspect_ tool:"
   ]
  },
  {
   "cell_type": "code",
   "execution_count": null,
   "id": "f72e6a4c",
   "metadata": {
    "tags": []
   },
   "outputs": [],
   "source": [
    "gs.run_command(\"r.slope.aspect\", elevation=\"elevation\", slope=\"slope\")"
   ]
  },
  {
   "cell_type": "markdown",
   "id": "ad486598",
   "metadata": {},
   "source": [
    "Look at the result (or run other tools to see if it works as expected):"
   ]
  },
  {
   "cell_type": "code",
   "execution_count": null,
   "id": "6000b83a",
   "metadata": {},
   "outputs": [],
   "source": [
    "img = gj.Map()\n",
    "img.d_rast(map=\"slope\")\n",
    "img.show()"
   ]
  },
  {
   "cell_type": "markdown",
   "id": "96b0c750",
   "metadata": {},
   "source": [
    "If that works, let's put it into a Python function. Python function definition starts with `def` followed by a space, name of the function, parentheses which contain parameters, colon, and a function body which is an indented block of code. General syntax looks like this:\n",
    "\n",
    "```python\n",
    "def function_name(a, b):\n",
    "    # code in the function, e.g.,\n",
    "    return a + b\n",
    "```\n",
    "\n",
    "This function takes two parameters, adds them together with `+`, and returns the result.\n",
    "\n",
    "Our function will have three parameters, namely _scanned_elev_, _env_, and `**kwargs`, because these are the parameters functions for Tangible Landscape must have. The function name will start with `run_` which is how Tangible Landscape will recognize that the function is meant to be used for data processing after Tangible Landscape scanned the physical surface. The _scanned_elev_ is name of the scanned surface. The _env_ parameter is the system environment variables and it needs to be passed to all functions which call GRASS tools such as the _run_command_ function. Finally, the special _kwargs_ parameter representes all the parameters which Tangible Landscape may be using but we are not using them in our function. This is documented at the [Tangible Landscape wiki](https://github.com/tangible-landscape/grass-tangible-landscape/wiki/Running-analyses-and-developing-workflows).\n",
    "\n",
    "Here is our function which calls _r.slope.aspect_:"
   ]
  },
  {
   "cell_type": "code",
   "execution_count": null,
   "id": "5cefbb21",
   "metadata": {},
   "outputs": [],
   "source": [
    "def run_slope(scanned_elev, env, **kwargs):\n",
    "    gs.run_command(\"r.slope.aspect\", elevation=scanned_elev, slope=\"slope\", env=env)"
   ]
  },
  {
   "cell_type": "markdown",
   "id": "0c7eb27f",
   "metadata": {},
   "source": [
    "Notably, the function takes the name of the elevation as a parameter _scanned_elev_, but it contains hardcoded name for the slope (`\"slope\"`). The name is hardcoded here because Tangible Landscape doesn't know what are the different raster or vector data created by the function.\n",
    "\n",
    "The function is defined. Now we need to call (run) it. For _scanned_elev_, we will use the _elevation_ raster. For now, we set the _env_ parameter to _None_ (which is possible here given how it is used in the function) and we will get to it later. The special _kwargs_ parameter doesn't need any values, so we will just leave that out from the call completely.\n",
    "\n",
    "Our function creates new raster data, but does not return any value, so in Python, we don't need to have any `return` statement.\n",
    "\n",
    "Calling a custom function is compltely the same as calling any other function, so:"
   ]
  },
  {
   "cell_type": "code",
   "execution_count": null,
   "id": "fe2ef0e1",
   "metadata": {},
   "outputs": [],
   "source": [
    "run_slope(scanned_elev=\"elevation\", env=None)"
   ]
  },
  {
   "cell_type": "markdown",
   "id": "eedc8a17",
   "metadata": {},
   "source": [
    "Check the result:"
   ]
  },
  {
   "cell_type": "code",
   "execution_count": null,
   "id": "b64db302",
   "metadata": {},
   "outputs": [],
   "source": [
    "print(gs.read_command(\"r.info\", map=\"slope\", flags=\"g\"))\n",
    "img = gj.Map()\n",
    "img.d_rast(map=\"slope\")\n",
    "img.show()"
   ]
  },
  {
   "cell_type": "markdown",
   "id": "0c9554aa",
   "metadata": {},
   "source": [
    "## Python script\n",
    "\n",
    "A basic Python can have a very simple structure:"
   ]
  },
  {
   "cell_type": "code",
   "execution_count": null,
   "id": "4f4dbaf6",
   "metadata": {
    "jp-MarkdownHeadingCollapsed": true,
    "tags": []
   },
   "outputs": [],
   "source": [
    "%%python\n",
    "print(\"Hello!\")"
   ]
  },
  {
   "cell_type": "markdown",
   "id": "b90e57ea",
   "metadata": {},
   "source": [
    "Here, the `%%python` line is a IPython kernel magic telling the Jupyter notebook that the cell is a content of a file which should be executed as a Python script. The Python script itself has only one line and that is `print(\"Hello!\")`. In a text editor, you would leave out the notebook-specific  `%%python`, but here we will continue using it so that running the cell actually executes its content as a Python script.\n",
    "\n",
    "For our non-trivial Python script, we will use a slighly more complex structure which includes `#!` line as a first line, a main function called _main_, and the call of this function in a \"if-name-equals-main\" block. A full, but minimal, script has these seven lines:"
   ]
  },
  {
   "cell_type": "code",
   "execution_count": null,
   "id": "1f00c109",
   "metadata": {},
   "outputs": [],
   "source": [
    "%%python\n",
    "#!/usr/bin/env python3\n",
    "\n",
    "def main():\n",
    "    pass\n",
    "\n",
    "if __name__ == '__main__':\n",
    "    main()"
   ]
  },
  {
   "cell_type": "markdown",
   "id": "5a378d19",
   "metadata": {},
   "source": [
    "The block which starts with `if __name__ == '__main__'` is what Python will execute when the file is used as a Python script. To keep our code organized, we call there the _main_ function. The _main_ function now contains only `pass` which means tells Python to do nothing. We will replace this `pass` statement with our code. In a script we will create, all code we want to execute will be in the _main_ function, but we will also create other functions and call them from the _main_ function.\n",
    "\n",
    "Finally, the `#!` line is called a shebang and is used on Linux and macOS and we won't be interacting with it. Note, again, that the `%%python` line is specific to Jupyter and it is not a part of the actual script."
   ]
  },
  {
   "cell_type": "markdown",
   "id": "b2e2056f",
   "metadata": {},
   "source": [
    "## Python file for Tangible Landscape\n",
    "\n",
    "A Python file for Tangible Landscape will be used in two ways: It will be used as a script when we test the functionality and it will be loaded by Tangible Landscape and only selected functions from the file will be executed.\n",
    "\n",
    "The file uses the structure for a Python script described above. We add the _run_slope_ function we have defined earlier, and we add new code to the _main_ function. The complete file is:"
   ]
  },
  {
   "cell_type": "code",
   "execution_count": null,
   "id": "bdbafd35",
   "metadata": {},
   "outputs": [],
   "source": [
    "%%python\n",
    "#!/usr/bin/env python3\n",
    "\n",
    "import os\n",
    "\n",
    "import grass.script as gs\n",
    "\n",
    "\n",
    "def run_slope(scanned_elev, env, **kwargs):\n",
    "    gs.run_command(\"r.slope.aspect\", elevation=scanned_elev, slope=\"slope\", env=env)\n",
    "\n",
    "\n",
    "def main():\n",
    "    env = os.environ.copy()\n",
    "    env[\"GRASS_OVERWRITE\"] = \"1\"\n",
    "    elevation = \"elev_lid792_1m\"\n",
    "    elev_resampled = \"elev_resampled\"\n",
    "    gs.run_command(\"g.region\", raster=elevation, res=4, flags=\"a\", env=env)\n",
    "    gs.run_command(\"r.resamp.stats\", input=elevation, output=elev_resampled, env=env)\n",
    "\n",
    "    run_slope(scanned_elev=elev_resampled, env=env)\n",
    "\n",
    "\n",
    "if __name__ == \"__main__\":\n",
    "    main()"
   ]
  },
  {
   "cell_type": "markdown",
   "id": "b36c465f",
   "metadata": {},
   "source": [
    "The new code in the _main_ function is used for testing of the _run_slope_ function outside of Tangible Landscape while creating conditions similar to how the _run_slope_ will be used in Tangible Landscape. Specifically, it creates a copy of the global system environment variables and uses that as the parameter _env_. It also modifies the environment to ensure that old data can replaced by new data bt modifying the `GRASS_OVERWRITE` environment variable. It uses a raster with similar size as the data in Tangible Landscape and to mimic the Tangible Landscape inputs even closer, it resamples the raster to a coarser resolution. This part will stay the same for most cases.\n",
    "\n",
    "The most important part of the _main_ function is the call of the _run_slope_ function. We can define any number of these `run_` functions and call them here. Tangible Landscape will ignore the _main_ function, but it will execute all `run_` functions in the file providing its own parameters.\n",
    "\n",
    "Rendering is not part of the script because it happens in Tangible Landscape, but we can render the result separately here in the notebook:"
   ]
  },
  {
   "cell_type": "code",
   "execution_count": null,
   "id": "4a229a72",
   "metadata": {
    "tags": []
   },
   "outputs": [],
   "source": [
    "img = gj.Map()\n",
    "img.d_rast(map=\"slope\")\n",
    "img.show()"
   ]
  },
  {
   "cell_type": "markdown",
   "id": "299a8947",
   "metadata": {},
   "source": [
    "## Creating a complete activity for Tangible Landscape\n",
    "\n",
    "To create a complete activity, you will need to create two files. A Python file, described above, and a JSON file.\n",
    "\n",
    "First, we will create the Python file. This time, we want to create an actual file, so instead of the `%%python` magic, we use the `%%file` magic which takes the contents of the cells and puts it into a file with the file name we specify after `%%file`. You can just copy-paste the complete code developed in the previous section."
   ]
  },
  {
   "cell_type": "code",
   "execution_count": null,
   "id": "a974da63",
   "metadata": {},
   "outputs": [],
   "source": [
    "%%file your_name.py\n",
    "#!/usr/bin/env python3\n",
    "\n",
    "import os\n",
    "\n",
    "import grass.script as gs\n",
    "\n",
    "\n",
    "def run_slope(scanned_elev, env, **kwargs):\n",
    "    gs.run_command(\"r.slope.aspect\", elevation=scanned_elev, slope=\"slope\", env=env)\n",
    "\n",
    "\n",
    "def main():\n",
    "    env = os.environ.copy()\n",
    "    env[\"GRASS_OVERWRITE\"] = \"1\"\n",
    "    elevation = \"elev_lid792_1m\"\n",
    "    elev_resampled = \"elev_resampled\"\n",
    "    gs.run_command(\"g.region\", raster=elevation, res=4, flags=\"a\", env=env)\n",
    "    gs.run_command(\"r.resamp.stats\", input=elevation, output=elev_resampled, env=env)\n",
    "\n",
    "    run_slope(scanned_elev=elev_resampled, env=env)\n",
    "\n",
    "\n",
    "if __name__ == \"__main__\":\n",
    "    main()"
   ]
  },
  {
   "cell_type": "markdown",
   "id": "2e246c08",
   "metadata": {},
   "source": [
    "A complete Tangible Landscape activity requires also a JSON file which tells Tangible Landscape what to display on the physical model."
   ]
  },
  {
   "cell_type": "code",
   "execution_count": null,
   "id": "f8003a31",
   "metadata": {},
   "outputs": [],
   "source": [
    "%%file your_name.json\n",
    "{\n",
    "  \"tasks\": [\n",
    "    {\n",
    "      \"layers\": [\n",
    "        [\"d.rast\", \"map=slope\"]\n",
    "      ],\n",
    "      \"base\": \"elev_lid792_1m\",\n",
    "      \"scanning_params\": {\n",
    "        \"smooth\": 10,\n",
    "        \"zexag\": 2,\n",
    "        \"numscans\": 1,\n",
    "        \"interpolate\": true\n",
    "      },\n",
    "      \"analyses\": \"simple_example.py\",\n",
    "      \"title\": \"Slope and Contours\",\n",
    "      \"author\": \"Example Contributor\",\n",
    "      \"instructions\": \"Change topography and observe changes in slope and contours.\"\n",
    "    }\n",
    "  ]\n",
    "}"
   ]
  },
  {
   "cell_type": "markdown",
   "id": "deb54a60",
   "metadata": {},
   "source": [
    "The layers for display are specified using GRASS display commands, such as *d.rast*, specified as a list of strings in this JSON file. Additionally, the files specifies scanning parameters and base raster (no need to change any of those), and finally, it specifies what Python file should be used and what are the metadata for the action (title, authors, and user instructions)."
   ]
  },
  {
   "cell_type": "markdown",
   "id": "c052a891",
   "metadata": {},
   "source": [
    "## Next steps\n",
    "\n",
    "* See more examples at [FOSS4G_NA workshop: Tangible_Landscape](https://grasswiki.osgeo.org/wiki/Using_GRASS_GIS_through_Python_and_tangible_interfaces_(workshop_at_FOSS4G_NA_2016)#Tangible_Landscape).\n",
    "* See additional instructions on creating an activity in the [ncsu-geoforall-lab/gis714-2025-tangible-landscape](https://github.com/ncsu-geoforall-lab/gis714-2025-tangible-landscape) repository.\n",
    "* Add your own activity to the above repository by creating a pull request."
   ]
  },
  {
   "cell_type": "markdown",
   "id": "4bb83054",
   "metadata": {
    "tags": []
   },
   "source": [
    "### Additional Information\n",
    "* [Website](https://github.com/ncsu-geoforall-lab/geospatial-simulations-course)\n",
    "    \n",
    "* [Computing Help](https://help.ncsu.edu/)\n",
    "    \n",
    "* [GIST Home](https://geospatial.ncsu.edu/)\n",
    "    \n",
    "* [Disclaimer](https://www.ncsu.edu/policies/prr-disclaimer.php)\n",
    "    \n",
    "* [Accessibility](https://oit.ncsu.edu/itaccess)\n",
    "\n",
    "* License: 2018 [CC BY-SA](https://creativecommons.org/licenses/by-sa/4.0/)\n",
    "  \n",
    "* [NCSU GeoForAll Lab](https://geospatial.ncsu.edu/geoforall/)"
   ]
  }
 ],
 "metadata": {
  "kernelspec": {
   "display_name": "Python 3 (ipykernel)",
   "language": "python",
   "name": "python3"
  },
  "language_info": {
   "codemirror_mode": {
    "name": "ipython",
    "version": 3
   },
   "file_extension": ".py",
   "mimetype": "text/x-python",
   "name": "python",
   "nbconvert_exporter": "python",
   "pygments_lexer": "ipython3",
   "version": "3.9.5"
  }
 },
 "nbformat": 4,
 "nbformat_minor": 5
}
