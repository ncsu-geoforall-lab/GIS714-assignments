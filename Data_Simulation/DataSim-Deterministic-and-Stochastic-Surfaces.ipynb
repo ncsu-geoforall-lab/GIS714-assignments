{
 "cells": [
  {
   "cell_type": "markdown",
   "id": "63da2047",
   "metadata": {},
   "source": [
    "#### NCSU GIS 714: Geospatial Computation and Simulations\n",
    "\n",
    "## Data simulation: Part 1\n",
    "\n",
    "Contents:\n",
    "* Start GRASS GIS\n",
    "* Simple Deterministic Surfaces: Planes and Waves\n",
    "* Stochastic Surfaces\n",
    "\n",
    "Additional Resources:\n",
    "* [GRASS GIS Overview and Manual](https://grass.osgeo.org/grass-stable/manuals/index.html)\n",
    "* [GRASS book](http://www.grassbook.org/)"
   ]
  },
  {
   "cell_type": "markdown",
   "id": "f50815e6",
   "metadata": {},
   "source": [
    "#### Start GRASS GIS"
   ]
  },
  {
   "cell_type": "code",
   "execution_count": 1,
   "id": "69c021c4",
   "metadata": {},
   "outputs": [],
   "source": [
    "import subprocess\n",
    "import sys\n",
    "\n",
    "# Ask GRASS GIS where its Python packages are.\n",
    "# Choose GRASS based on operating system.\n",
    "if sys.platform == \"linux\":\n",
    "    grass_call = \"grass\"\n",
    "    shell_setting = False\n",
    "elif sys.platform == \"darwin\":\n",
    "    from pathlib import Path\n",
    "    grass_call = list(Path(\"/Applications\").glob(\"GRASS*\"))[0] / \"Contents\" / \"Resources\" / \"bin\" / \"grass\"\n",
    "    shell_setting = False\n",
    "elif sys.platform == \"win32\":\n",
    "    grass_call = \"grass80\"\n",
    "    shell_setting = True\n",
    "\n",
    "    \n",
    "sys.path.append(\n",
    "    subprocess.check_output([grass_call, \"--config\", \"python_path\"], text=True, shell=shell_setting).strip()\n",
    ")\n",
    "\n",
    "# Import GRASS packages\n",
    "import grass.script as gs\n",
    "import grass.jupyter as gj\n",
    "\n",
    "# Start GRASS Session\n",
    "gj.init(\"../data\", \"nc_spm_08_grass7\", \"PERMANENT\")\n",
    "\n",
    "# Make a new mapset for this assignment\n",
    "gs.run_command(\"g.mapset\", mapset=\"HW2_data_simulation\", location=\"nc_spm_08_grass7\", flags=\"c\")"
   ]
  },
  {
   "cell_type": "markdown",
   "id": "1fb599c0-6175-455e-bda6-e2a4979eef27",
   "metadata": {},
   "source": [
    "### Simple deterministic surfaces\n",
    "\n",
    "#### Planes\n",
    "\n",
    "Create surfaces defined by mathematical functions. First, set region \n",
    "to a small rural watershed area at 1m resolution using a predefined region and view our study area:"
   ]
  },
  {
   "cell_type": "code",
   "execution_count": null,
   "id": "65c1732b-d6f7-46d3-a24a-2e05896b903e",
   "metadata": {
    "tags": []
   },
   "outputs": [],
   "source": [
    "gs.run_command(\"g.region\", region=\"rural_1m\")\n",
    "\n",
    "# Create Map instance\n",
    "gs.run_command(\"r.colors\", map=\"elevation\", co=\"elevation\")\n",
    "img = gj.Map(use_region=True)\n",
    "img.d_rast(map=\"elev_lid792_1m\")\n",
    "img.d_legend(raster=\"elev_lid792_1m\", at=(55, 95, 80, 84), flags=\"b\")\n",
    "# Display map\n",
    "img.show()"
   ]
  },
  {
   "cell_type": "markdown",
   "id": "35a0dd1f-307a-4414-b9ef-b02ac68b3fd2",
   "metadata": {},
   "source": [
    "Using map algebra generate a tilted plane with 20% slope, slightly rotated, with 50m offset. Cut off the plane at the crossection with elev_lid792_1m surface (see the equation in the lecture):"
   ]
  },
  {
   "cell_type": "code",
   "execution_count": null,
   "id": "6ea3bf72-4c77-44f0-8072-1270b7379220",
   "metadata": {
    "tags": []
   },
   "outputs": [],
   "source": [
    "gs.mapcalc(\"tiltplane = 0.02*row()+0.2*col()+50\")\n",
    "gs.mapcalc(\"tiltpl_over = if(tiltplane > elev_lid792_1m,tiltplane,null())\")"
   ]
  },
  {
   "cell_type": "code",
   "execution_count": null,
   "id": "b72f5d37-94a7-454c-818d-e349279ec25a",
   "metadata": {},
   "outputs": [],
   "source": [
    "gs.run_command(\"r.colors\", map=\"tiltpl_over\", co=\"blues\", flags=\"e\")\n",
    "\n",
    "# Display Results\n",
    "img = gj.Map()\n",
    "img.d_rast(map=\"elev_lid792_1m\")\n",
    "img.d_rast(map=\"tiltpl_over\")\n",
    "# Display map\n",
    "img.show()"
   ]
  },
  {
   "cell_type": "markdown",
   "id": "75d60bf2-6adc-4744-b78b-57c9a4fb814f",
   "metadata": {},
   "source": [
    "#### *Question 1*\n",
    "\n",
    "Generate a plane that crosses the surface along the region diagonal with 10% tilt and intersects with the elev_lid792_1m surface. Visualize the plane together with elev_lid792_1m. Briefly describe your results and provide the equation\n",
    "in mathematical and map algebra form (use Markdown cells for this)."
   ]
  },
  {
   "cell_type": "code",
   "execution_count": null,
   "id": "779c13d1-e4e9-42f1-958f-66a44a89403a",
   "metadata": {},
   "outputs": [],
   "source": [
    "# YOUR CODE AND TEXT HERE"
   ]
  },
  {
   "cell_type": "markdown",
   "id": "aa4167a6-ea04-412e-9b2d-2b3da41272c9",
   "metadata": {},
   "source": [
    "#### Waves\n",
    "In the lecture we have shown mathematical surface with hills and valleys generated using the following function:"
   ]
  },
  {
   "cell_type": "code",
   "execution_count": null,
   "id": "1a33cb46-0b2d-4e6e-a65b-e9a55aacb603",
   "metadata": {
    "jp-MarkdownHeadingCollapsed": true,
    "tags": []
   },
   "outputs": [],
   "source": [
    "gs.mapcalc(\"waves = sin(0.4*row())+0.3*cos(col())+80\")\n",
    "\n",
    "gs.run_command(\"r.colors\", map=\"waves\", co=\"plasma\", flags=\"e\")\n",
    "\n",
    "# Create Map3D instance\n",
    "img = gj.Map3D()\n",
    "img.render(elevation_map=\"waves\", color_map=\"waves\", perspective=20, height=150)\n",
    "# Display map\n",
    "img.show()"
   ]
  },
  {
   "cell_type": "markdown",
   "id": "19727fcb-7bee-4e3d-81d0-e1893ccc784c",
   "metadata": {
    "tags": []
   },
   "source": [
    "#### *Question 2*\n",
    "\n",
    "Using map algebra generate surface with hills, depressions or valleys that is different from the one shown in the lecture,\n",
    "but is close enough to the elev_lid792_1m surface that you can visualize them together in 3D. Describe your work."
   ]
  },
  {
   "cell_type": "code",
   "execution_count": null,
   "id": "afe0e8b5-7113-40f3-a864-14cfc514effe",
   "metadata": {},
   "outputs": [],
   "source": [
    "#YOUR CODE AND TEXT HERE"
   ]
  },
  {
   "cell_type": "markdown",
   "id": "2558ea2b-6cb6-421b-84d8-527f467c0023",
   "metadata": {
    "tags": []
   },
   "source": [
    "### Stochastic methods\n",
    "\n",
    "Investiagte impact of noise with different distributions on water flow pattern, watershed and stream \n",
    "delineation using random surfaces. Read the manual pages for the relevant commands to understand \n",
    "the methods and parameters. \n",
    "\n",
    "First we explore different types of random surfaces: uniform with values within the interval [-2,2],\n",
    "Gaussian distribution around the mean=0 with sigma=0.3, and spatially dependent gaussian distribution with\n",
    "distance 10m. Then we add these noise surfaces to our elevation surface.\n",
    "\n",
    "##### Uniform"
   ]
  },
  {
   "cell_type": "code",
   "execution_count": null,
   "id": "9119fc53-dc24-4556-b48b-9c73fa8222b7",
   "metadata": {
    "jp-MarkdownHeadingCollapsed": true,
    "tags": []
   },
   "outputs": [],
   "source": [
    "gs.run_command(\"r.surf.random\", out=\"uniform\", min=-2, max=2)\n",
    "print(gs.read_command(\"r.univar\", map=\"uniform\"))"
   ]
  },
  {
   "cell_type": "code",
   "execution_count": null,
   "id": "149724fe-5c2a-4809-85c1-299b701bd0fe",
   "metadata": {
    "jp-MarkdownHeadingCollapsed": true,
    "tags": []
   },
   "outputs": [],
   "source": [
    "gs.run_command(\"r.colors\", map=\"uniform\", co=\"bcyr\")\n",
    "\n",
    "img = gj.Map()\n",
    "img.d_rast(map=\"uniform\")\n",
    "img.d_legend(raster=\"uniform\", at=(5,50,7,10), flags=\"b\")\n",
    "img.show()"
   ]
  },
  {
   "cell_type": "code",
   "execution_count": null,
   "id": "85ee30ce-4532-4676-96a3-2508e7cfa95f",
   "metadata": {
    "jp-MarkdownHeadingCollapsed": true,
    "tags": []
   },
   "outputs": [],
   "source": [
    "# Add uniform noise to elevation\n",
    "gs.mapcalc(\"{c} = {a} + {b}\".format(c=\"elev_lidnoise_uniform\", a=\"elev_lid792_1m\", b=\"uniform\"))\n",
    "gs.run_command(\"r.colors\", map=\"elev_lidnoise_uniform\", co=\"elevation\")"
   ]
  },
  {
   "cell_type": "markdown",
   "id": "c6a64540-ac81-48af-b963-6f3716ee583c",
   "metadata": {},
   "source": [
    "##### Gaussian"
   ]
  },
  {
   "cell_type": "code",
   "execution_count": null,
   "id": "0fa1ae4d-1160-453d-a0e8-2bce11732b17",
   "metadata": {
    "jp-MarkdownHeadingCollapsed": true,
    "tags": []
   },
   "outputs": [],
   "source": [
    "gs.run_command(\"r.surf.gauss\", out=\"gauss_m0_s03\", mean=0, sigma=0.3)\n",
    "print(gs.read_command(\"r.univar\", map=\"gauss_m0_s03\"))"
   ]
  },
  {
   "cell_type": "code",
   "execution_count": null,
   "id": "dc51adb2-7ab7-426b-8fe0-726e4caafad4",
   "metadata": {
    "jp-MarkdownHeadingCollapsed": true,
    "tags": []
   },
   "outputs": [],
   "source": [
    "# Render Gaussian raster\n",
    "gs.run_command(\"r.colors\", map=\"gauss_m0_s03\", co=\"differences\")\n",
    "\n",
    "img = gj.Map()\n",
    "img.d_rast(map=\"gauss_m0_s03\")\n",
    "img.d_legend(raster=\"gauss_m0_s03\", at=(5,50,7,10), flags=\"b\")\n",
    "img.show()"
   ]
  },
  {
   "cell_type": "code",
   "execution_count": null,
   "id": "72b30c2e-3b19-4b86-8e69-3be8dd344408",
   "metadata": {
    "jp-MarkdownHeadingCollapsed": true,
    "tags": []
   },
   "outputs": [],
   "source": [
    "# Add gaussian noise to elevation\n",
    "gs.mapcalc(\"{c} = {a} + {b}\".format(c=\"elev_lidnoise_gauss\", a=\"elev_lid792_1m\", b=\"gauss_m0_s03\"))\n",
    "gs.run_command(\"r.colors\", map=\"elev_lidnoise_gauss\", co=\"elevation\")"
   ]
  },
  {
   "cell_type": "markdown",
   "id": "7383c9fc-78d4-4d25-903b-abc102390fd6",
   "metadata": {},
   "source": [
    "##### Spatially Dependent Gaussian Distribution"
   ]
  },
  {
   "cell_type": "code",
   "execution_count": null,
   "id": "1955047b-9a7b-4a2f-ace8-f7767ffe402c",
   "metadata": {
    "jp-MarkdownHeadingCollapsed": true,
    "tags": []
   },
   "outputs": [],
   "source": [
    "gs.run_command(\"r.random.surface\", output=\"gauss_spatial_d10\", distance=10)\n",
    "print(gs.read_command(\"r.univar\", map=\"gauss_spatial_d10\"))"
   ]
  },
  {
   "cell_type": "code",
   "execution_count": null,
   "id": "a6815614-0430-496a-afd6-b26c21323680",
   "metadata": {},
   "outputs": [],
   "source": [
    "# Render Spatially-Dependent Gaussian raster\n",
    "gs.run_command(\"r.colors\", map=\"gauss_spatial_d10\", co=\"differences\")\n",
    "\n",
    "img = gj.Map()\n",
    "img.d_rast(map=\"gauss_spatial_d10\")\n",
    "img.show()"
   ]
  },
  {
   "cell_type": "code",
   "execution_count": null,
   "id": "55c19a57-95c9-4ab0-82c3-8429bddb8f80",
   "metadata": {
    "jp-MarkdownHeadingCollapsed": true,
    "tags": []
   },
   "outputs": [],
   "source": [
    "# Add gaussian noise to elevation\n",
    "gs.mapcalc(\"{y} = ({x} - 134.441) * (0.3/254)\".format(y=\"gauss_surfspat\", x=\"gauss_spatial_d10\"))\n",
    "gs.mapcalc(\"{c} = {a} + {b}\".format(c=\"elev_lidnoise_gspat\", a=\"elev_lid792_1m\", b=\"gauss_surfspat\"))\n",
    "\n",
    "gs.run_command(\"r.colors\", map=\"elev_lidnoise_gspat\", co=\"elevation\")"
   ]
  },
  {
   "cell_type": "markdown",
   "id": "019e1e92-9a38-4527-9928-62cf0ab6ced6",
   "metadata": {
    "tags": []
   },
   "source": [
    "#### *Question 3*\n",
    "\n",
    "Can you explain the constants used in the mapcalc command for gauss_surfspat?\n",
    "Where do these constants come from and why are they needed?"
   ]
  },
  {
   "cell_type": "markdown",
   "id": "3c5da639-7365-46d1-89cb-996dba033ca1",
   "metadata": {},
   "source": [
    "->YOUR ANSWER HERE"
   ]
  },
  {
   "cell_type": "markdown",
   "id": "7e441071-2461-49bf-8af4-2b9ff9f49275",
   "metadata": {},
   "source": [
    "#### Comparison"
   ]
  },
  {
   "cell_type": "code",
   "execution_count": null,
   "id": "4f78cebc-523a-4f68-931f-25c2581f61cc",
   "metadata": {},
   "outputs": [],
   "source": [
    "gs.run_command(\"r.colors\", map=\"elev_lid792_1m\", co=\"elevation\")\n",
    "\n",
    "# Create Interactive Map\n",
    "fig = gj.InteractiveMap(width = 600, use_region=True)\n",
    "# Add raster, vector and layer control to map\n",
    "fig.add_raster(\"elev_lidnoise_uniform\", opacity=1.0, title=\"Uniform Noise\")\n",
    "fig.add_raster(\"elev_lidnoise_gauss\", opacity=1.0, title=\"Gaussian Noise\")\n",
    "fig.add_raster(\"elev_lidnoise_gspat\", opacity=1.0, title=\"Spatially-Dependent Gaus. Noise\")\n",
    "fig.add_raster(\"elev_lid792_1m\", opacity=1.0, title=\"Elevation, no add'l noise\")\n",
    "fig.add_layer_control(position = \"bottomright\")\n",
    "# Display map\n",
    "fig.show()"
   ]
  },
  {
   "cell_type": "markdown",
   "id": "368dcfef-e0cd-4cf3-a369-3ebc85d60f1f",
   "metadata": {},
   "source": [
    "#### Flow Accumulation Comparison"
   ]
  },
  {
   "cell_type": "code",
   "execution_count": null,
   "id": "a2b894bd-b020-4e07-9250-d52d3c3e1f18",
   "metadata": {
    "jp-MarkdownHeadingCollapsed": true,
    "tags": []
   },
   "outputs": [],
   "source": [
    "gs.run_command(\"r.watershed\", elevation=\"elev_lid792_1m\", thresh=5000, accum=\"accum_5K\", drain=\"draindir_5K\", basin=\"basin_5K\", flags=\"a\")\n",
    "gs.run_command(\"r.watershed\", elevation=\"elev_lidnoise_uniform\", thresh=15000, accum=\"accum_15K_noise\", drain=\"draindir_15K_noise\", basin=\"basin_15K_noise\", flags=\"a\")\n",
    "gs.run_command(\"r.watershed\", elevation=\"elev_lidnoise_gspat\", thresh=10000, accum=\"accum_10K_noisegspat\", drain=\"draindir_10K_noisegspat\", basin=\"basin_10K_noisegspat\", flags=\"a\")\n",
    "\n",
    "gs.run_command(\"r.to.vect\", input=\"basin_5K\", output=\"basin_5K\", type=\"area\")\n",
    "gs.run_command(\"r.to.vect\", input=\"basin_10K_noisegspat\", output=\"basin_10K_noisegspat\", type=\"area\")\n",
    "gs.run_command(\"r.to.vect\", input=\"basin_15K_noise\", output=\"basin_15K_noise\", type=\"area\")"
   ]
  },
  {
   "cell_type": "markdown",
   "id": "5b2063d3-226e-430b-8fe7-94cdbd9c92e6",
   "metadata": {
    "tags": []
   },
   "source": [
    "#### *Question 4*\n",
    "Visualy compare flow accumulation petterns and watersheds derived from elev_lid792_1m, elev_lidnoise, elev_lidnoise_gauss, elev_lidnois_gspat. What can you say about the spatial pattern of flow accumulation derived from these three DEMs?"
   ]
  },
  {
   "cell_type": "code",
   "execution_count": null,
   "id": "3db1d75f-9490-41f6-90ca-4880d2ea0fcf",
   "metadata": {
    "jp-MarkdownHeadingCollapsed": true,
    "tags": []
   },
   "outputs": [],
   "source": [
    "### YOUR CODE AND TEXT HERE"
   ]
  },
  {
   "cell_type": "markdown",
   "id": "1619279f-f311-4e0b-8005-88799a0e2845",
   "metadata": {},
   "source": [
    "#### *Optional: Question 5*\n",
    "For quantitative comparison, you can extract selected basins and compare their area using r.report, compute distances between the boundaries, extract streams using r.stream.extract and compare their characteristics using the r.stream* add-ons. \n"
   ]
  },
  {
   "cell_type": "markdown",
   "id": "800d2182-dab8-4503-88d3-86db07e501e0",
   "metadata": {
    "tags": []
   },
   "source": [
    "### Additional Information\n",
    "* [Website](https://github.com/ncsu-geoforall-lab/geospatial-simulations-course)\n",
    "    \n",
    "* [Computing Help](https://help.ncsu.edu/)\n",
    "    \n",
    "* [GIST Home](https://geospatial.ncsu.edu/)\n",
    "    \n",
    "* [Disclaimer](https://www.ncsu.edu/policies/prr-disclaimer.php)\n",
    "    \n",
    "* [Accessibility](https://oit.ncsu.edu/itaccess)\n",
    "\n",
    "* License: 2018 [CC BY-SA](https://creativecommons.org/licenses/by-sa/4.0/)\n",
    "  \n",
    "* [NCSU GeoForAll Lab](https://geospatial.ncsu.edu/geoforall/)"
   ]
  },
  {
   "cell_type": "code",
   "execution_count": null,
   "id": "975a2baa-bb83-41db-b3dd-5ab706df47df",
   "metadata": {},
   "outputs": [],
   "source": []
  }
 ],
 "metadata": {
  "kernelspec": {
   "display_name": "Python 3 (ipykernel)",
   "language": "python",
   "name": "python3"
  },
  "language_info": {
   "codemirror_mode": {
    "name": "ipython",
    "version": 3
   },
   "file_extension": ".py",
   "mimetype": "text/x-python",
   "name": "python",
   "nbconvert_exporter": "python",
   "pygments_lexer": "ipython3",
   "version": "3.10.9"
  }
 },
 "nbformat": 4,
 "nbformat_minor": 5
}
