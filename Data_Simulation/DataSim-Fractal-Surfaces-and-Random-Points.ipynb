{
 "cells": [
  {
   "cell_type": "markdown",
   "id": "63da2047",
   "metadata": {},
   "source": [
    "\n",
    "#### NCSU GIS 714: Geospatial Computation and Simulations\n",
    "\n",
    "## Data simulation: Part 2\n",
    "\n",
    "Contents:\n",
    "* Start GRASS GIS\n",
    "* Random Fractal Surfaces\n",
    "* Random Point Data\n",
    "\n",
    "Additional Resources:\n",
    "* [GRASS GIS overview and manual](http://grass.osgeo.org/grass74/manuals/index.html)\n",
    "* [GRASS book](http://www.grassbook.org/)"
   ]
  },
  {
   "cell_type": "markdown",
   "id": "f50815e6",
   "metadata": {},
   "source": [
    "#### Start GRASS GIS"
   ]
  },
  {
   "cell_type": "code",
   "execution_count": null,
   "id": "69c021c4",
   "metadata": {},
   "outputs": [],
   "source": [
    "import subprocess\n",
    "import sys\n",
    "\n",
    "# Ask GRASS GIS where its Python packages are.\n",
    "# Choose GRASS based on operating system.\n",
    "if sys.platform == \"linux\":\n",
    "    grass_call = \"grass\"\n",
    "    shell_setting = False\n",
    "elif sys.platform == \"darwin\":\n",
    "    from pathlib import Path\n",
    "    grass_call = list(Path(\"/Applications\").glob(\"GRASS*\"))[0] / \"Contents\" / \"Resources\" / \"bin\" / \"grass\"\n",
    "    shell_setting = False\n",
    "elif sys.platform == \"win32\":\n",
    "    grass_call = \"grass80\"\n",
    "    shell_setting = True\n",
    "\n",
    "sys.path.append(\n",
    "    subprocess.check_output([grass_call, \"--config\", \"python_path\"], text=True, shell=shell_setting).strip()\n",
    ")\n",
    "\n",
    "# Import GRASS packages\n",
    "import grass.script as gs\n",
    "import grass.jupyter as gj\n",
    "\n",
    "# Start GRASS Session\n",
    "gj.init(\"../data\", \"nc_spm_08_grass7\", \"HW2_data_simulation\")\n",
    "\n",
    "# Set Region\n",
    "gs.run_command(\"g.region\", region=\"rural_1m\")"
   ]
  },
  {
   "cell_type": "markdown",
   "id": "577c438d-c7cf-4331-98d0-22b12bffa1cf",
   "metadata": {
    "tags": []
   },
   "source": [
    "### Random fractal surfaces\n",
    "\n",
    "First, we generate two series of surfaces with dimension 2.9 to 2.01. The series shows creation of a fractal surface, each step with increasing complexity. We register the series in temporal framework, assign the rasters a common color table and create an animation\n",
    "(feel free to select larger n or a different dimension). The two text files, *fractal_dem290_series.txt* and *fractal_dem201_series.txt*, contain a list of names for each in the series and the time step. Finally, we'll run watershed analysis on the final surfaces."
   ]
  },
  {
   "cell_type": "markdown",
   "id": "a5a865f3-4036-4381-a0be-4731cb6c47ec",
   "metadata": {},
   "source": [
    "#### *Question 1*\n",
    "Create a fractal surface with [r.surf.fractal](https://grass.osgeo.org/grass80/manuals/r.surf.fractal.html) to create a raster named `fractal_dem_d290` with dimension 2.9 and 9 intermediate images. Use [r.info](https://grass.osgeo.org/grass80/manuals/r.info.html) to find the minimun and maximum values of the surface. Describe your workflow."
   ]
  },
  {
   "cell_type": "code",
   "execution_count": null,
   "id": "5952a3d3-5bc5-4c83-9f7d-ccf13470902b",
   "metadata": {
    "tags": []
   },
   "outputs": [],
   "source": [
    "### YOUR CODE AND TEXT HERE"
   ]
  },
  {
   "cell_type": "markdown",
   "id": "5d9138de-e6fb-4761-9881-df1c946012b9",
   "metadata": {},
   "source": [
    "Now, we'll register each of the intermediate images as a space time raster dataset and compute a few simple statistics."
   ]
  },
  {
   "cell_type": "code",
   "execution_count": null,
   "id": "c20b6c72-d6bf-440b-80b0-f698117c698d",
   "metadata": {
    "tags": []
   },
   "outputs": [],
   "source": [
    "gs.run_command(\"t.create\", output=\"fractal_dem_290\", type=\"strds\", temporaltype=\"relative\", \n",
    "               title=\"Fractal DEMs with d=2.90\", description=\"Generated data\")\n",
    "\n",
    "# Register series with names from file\n",
    "gs.run_command(\"t.register\", input=\"fractal_dem_290\", type=\"raster\", file=\"fractal_dem290_series.txt\", unit=\"years\")\n",
    "\n",
    "print(gs.read_command(\"t.rast.list\", input=\"fractal_dem_290\"))"
   ]
  },
  {
   "cell_type": "markdown",
   "id": "4c898bfe-4f25-4a96-9aae-70bf08b57f21",
   "metadata": {},
   "source": [
    "Create an animation showing the creation of the fractal surface:"
   ]
  },
  {
   "cell_type": "code",
   "execution_count": null,
   "id": "7c865642-ff50-488c-ab41-209c571b1fe5",
   "metadata": {},
   "outputs": [],
   "source": [
    "fractal_creation = gj.TimeSeriesMap(use_region=True)\n",
    "fractal_creation.add_raster_series(\"fractal_dem_290\")\n",
    "fractal_creation.show()"
   ]
  },
  {
   "cell_type": "markdown",
   "id": "2927bc90-a4c9-4075-9874-b7863c05fc04",
   "metadata": {},
   "source": [
    "Get some simple univariate statistics"
   ]
  },
  {
   "cell_type": "code",
   "execution_count": null,
   "id": "4170df8a-9d7e-4b5c-8c72-eb30b1f4036c",
   "metadata": {
    "tags": []
   },
   "outputs": [],
   "source": [
    "print(gs.read_command(\"t.rast.univar\", input=\"fractal_dem_290\"))"
   ]
  },
  {
   "cell_type": "markdown",
   "id": "6bb0209f-78e3-4054-947b-30132194d790",
   "metadata": {},
   "source": [
    "#### *Question 2*\n",
    "Repeat the process above but for dimension = 2.01. Compute and compare the flow accumulations and drainage basins for both dimensions (2.9 and 2.01). How are they different?"
   ]
  },
  {
   "cell_type": "code",
   "execution_count": null,
   "id": "97a7d388-1ed4-40de-a92c-b31e15d83262",
   "metadata": {
    "tags": []
   },
   "outputs": [],
   "source": [
    "#### YOUR CODE AND TEXT HERE."
   ]
  },
  {
   "cell_type": "markdown",
   "id": "0852ce1a-2f22-4a94-9e14-a3c238389603",
   "metadata": {
    "tags": []
   },
   "source": [
    "### Surfaces with Fractal Noise\n",
    "\n",
    "#### *Question 3*\n",
    "Let's return to the DEMs with stocastic noise that we created in part 1.\n",
    "\n",
    "Say the lidar error is +/- 30 cm. Rescale the fractal surface to [-0.3,0.3] and add to the `elev_lid792_1m` DEM as a simulated noise. Also compute the flow accumation, drainage direction and basins with a threshold of 15000 (similar to part 1). \n",
    "\n",
    "The water flow pattern may represent flow over rough surface, where the roughness is represented in the DEM (e.g. as a grass cover) rather than a constant value (e.g. Mannings coefficient)."
   ]
  },
  {
   "cell_type": "code",
   "execution_count": null,
   "id": "ff5393f7-b18b-4d6f-bce3-39dfbac1b6b1",
   "metadata": {
    "tags": []
   },
   "outputs": [],
   "source": [
    "#### YOUR CODE AND TEXT HERE"
   ]
  },
  {
   "cell_type": "markdown",
   "id": "98800cee-7468-4dab-9963-71e2b4b77627",
   "metadata": {},
   "source": [
    "### Comparing stochastic noise to real LiDAR sensor noise"
   ]
  },
  {
   "cell_type": "markdown",
   "id": "9afb07c1-4a89-4c02-8a3d-99e5d88586dc",
   "metadata": {},
   "source": [
    "In addition to the lidar-derived, bare-earth DEM, we have the original lidar point data, `elev_lid792_bepts`. Next, let's compute the elevation surface from point data with different tension parameters and compare the impact on flow modeling."
   ]
  },
  {
   "cell_type": "code",
   "execution_count": null,
   "id": "06cb5a9f-2e61-4c91-a301-1153ae63dd6e",
   "metadata": {
    "tags": []
   },
   "outputs": [],
   "source": [
    "gs.run_command(\"g.region\", raster=\"elev_lid792_1m\", flags=\"p\")\n",
    "\n",
    "# First, use the default tension (40)\n",
    "gs.run_command(\"v.surf.rst\", input=\"elev_lid792_bepts\", elev=\"elev_lid_default\", npmin=120) \n",
    "\n",
    "# Higher Tension\n",
    "gs.run_command(\"v.surf.rst\", input=\"elev_lid792_bepts\", elev=\"elev_lid_t120\", npmin=120, ten=120)\n",
    "\n",
    "# Compute flow accumulation, drainage direction and basins for comparison to DEMs with stochastic noise\n",
    "gs.run_command(\"r.watershed\", elevation=\"elev_lid_default\", threshold=5000, accumulation=\"accum_5K_liddef\", drainage=\"draindir_5K_liddef\",\n",
    "               basin=\"basin_5K_liddef\", flags=\"a\")\n",
    "\n",
    "gs.run_command(\"r.watershed\", elevation=\"elev_lid_t120\", threshold=5000, accumulation=\"accum_5K_lidt120\", drainage=\"draindir_5K_lidt120\",\n",
    "               basin=\"basin_5K_lidt120\", flags=\"a\")"
   ]
  },
  {
   "cell_type": "markdown",
   "id": "eb439009-f228-4719-82cd-4a54572e86e8",
   "metadata": {
    "tags": []
   },
   "source": [
    "#### *Question 4*\n",
    "\n",
    "Compare the drainage patterns. Which of the surfaces with simulated noise (uniform, gaussian, spatially dependent gaussian and fractal) produce the flow pattern closest to the surface with noise from lidar point cloud (ten=120)? "
   ]
  },
  {
   "cell_type": "code",
   "execution_count": null,
   "id": "c8ce673d-f1a8-4716-bec7-fe47718fb77e",
   "metadata": {},
   "outputs": [],
   "source": [
    "#### YOUR CODE AND TEXT HERE"
   ]
  },
  {
   "cell_type": "markdown",
   "id": "b2cef91a-35bb-488d-b712-46b195da3302",
   "metadata": {
    "tags": []
   },
   "source": [
    "###  Random point data \n",
    "\n",
    "In this example, we analyze how errors in point position can influence viewshed analysis. First, install r.viewshed.cva addon:"
   ]
  },
  {
   "cell_type": "code",
   "execution_count": null,
   "id": "cf6aa3df-acec-4e12-8e17-6640effe21eb",
   "metadata": {
    "tags": []
   },
   "outputs": [],
   "source": [
    "!g.extension r.viewshed.cva"
   ]
  },
  {
   "cell_type": "markdown",
   "id": "fa56f72f-2776-41a8-95b1-3aae06d5413a",
   "metadata": {
    "tags": []
   },
   "source": [
    "Generate random points and perturb them. For both points set compute a cumulative viewshed and compare them:"
   ]
  },
  {
   "cell_type": "code",
   "execution_count": null,
   "id": "274df993-d5b1-4fba-bbcb-ba365fa65279",
   "metadata": {
    "tags": []
   },
   "outputs": [],
   "source": [
    "# Generate random points and compute a cumulative viewshed\n",
    "gs.run_command(\"v.random\", output=\"random_view\", npoints=10, seed=4)\n",
    "gs.run_command(\"r.viewshed.cva\", input=\"elev_lid792_1m\", vector=\"random_view\", output=\"cumulative\")"
   ]
  },
  {
   "cell_type": "markdown",
   "id": "eadbd541-4b98-4f0a-8e8b-020c28bb6cba",
   "metadata": {},
   "source": [
    "#### *Question 5*\n",
    "\n",
    "Perturb the points with [v.perturb](https://grass.osgeo.org/grass80/manuals/v.perturb.html) with parameter = 20 and seed = 1. Computer the cummulative viewshed for the perturbed point and compare the results (in addition to mapping the viewsheds, [r.report](https://grass.osgeo.org/grass80/manuals/r.report.html) may be useful). What is the impact of error in point position on total viewshed area? "
   ]
  },
  {
   "cell_type": "code",
   "execution_count": null,
   "id": "51ea0173-4c2c-4c8d-a1ee-85fb9672aa03",
   "metadata": {
    "tags": []
   },
   "outputs": [],
   "source": [
    "#### YOUR CODE AND TEXT HERE"
   ]
  },
  {
   "cell_type": "markdown",
   "id": "578677d9-a613-4a95-ac20-ffe6dca0026b",
   "metadata": {
    "tags": []
   },
   "source": [
    "Additional commands you can use to simulate simulate point data in raster or vector representation:\n",
    "r.random, r.random.cells, r.sample.category, v.perturb, v.random, v.kcv "
   ]
  },
  {
   "cell_type": "markdown",
   "id": "c4bca617-62b1-4bce-9a7f-76ea7bfe466f",
   "metadata": {
    "tags": []
   },
   "source": [
    "### Additional Information\n",
    "* [Website](https://github.com/ncsu-geoforall-lab/geospatial-simulations-course)\n",
    "    \n",
    "* [Computing Help](https://help.ncsu.edu/)\n",
    "    \n",
    "* [GIST Home](https://geospatial.ncsu.edu/)\n",
    "    \n",
    "* [Disclaimer](https://www.ncsu.edu/policies/prr-disclaimer.php)\n",
    "    \n",
    "* [Accessibility](https://oit.ncsu.edu/itaccess)\n",
    "\n",
    "* License: 2018 [CC BY-SA](https://creativecommons.org/licenses/by-sa/4.0/)\n",
    "  \n",
    "* [NCSU GeoForAll Lab](https://geospatial.ncsu.edu/geoforall/)"
   ]
  }
 ],
 "metadata": {
  "kernelspec": {
   "display_name": "Python 3 (ipykernel)",
   "language": "python",
   "name": "python3"
  },
  "language_info": {
   "codemirror_mode": {
    "name": "ipython",
    "version": 3
   },
   "file_extension": ".py",
   "mimetype": "text/x-python",
   "name": "python",
   "nbconvert_exporter": "python",
   "pygments_lexer": "ipython3",
   "version": "3.10.9"
  }
 },
 "nbformat": 4,
 "nbformat_minor": 5
}
