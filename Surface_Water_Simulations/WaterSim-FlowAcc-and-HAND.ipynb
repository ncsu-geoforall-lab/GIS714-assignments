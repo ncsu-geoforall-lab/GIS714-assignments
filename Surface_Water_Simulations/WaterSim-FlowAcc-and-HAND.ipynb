{
 "cells": [
  {
   "cell_type": "markdown",
   "id": "b0e842e2-33b6-4acb-b3c5-ab4ccfbf6306",
   "metadata": {},
   "source": [
    "#### NCSU GIS 714: Geospatial Computation and Simulations\n",
    "\n",
    "## Surface Water Simulation: Introduction to Surface Water Simulation\n",
    "\n",
    "Contents:\n",
    "1. Compare flow accumulation derived by different algorithms\n",
    "2. Create a map of flooded area\n",
    "3. Estimate inundation extent using HAND methodology\n",
    "\n",
    "Additional Resources:\n",
    "* [GRASS GIS Overview and Manual](https://grass.osgeo.org/grass-stable/manuals/index.html)\n",
    "* [GRASS book](http://www.grassbook.org/)\n",
    "* For more practice in watershed analysis see [Flow and watershed analysis in GIS582](http://ncsu-geoforall-lab.github.io/geospatial-modeling-course/grass/hydrology.html)"
   ]
  },
  {
   "cell_type": "markdown",
   "id": "c7d4d539-b74e-4575-b770-76949373fd03",
   "metadata": {},
   "source": [
    "#### Start GRASS GIS"
   ]
  },
  {
   "cell_type": "code",
   "execution_count": null,
   "id": "50fcda5b-48bd-4af2-a496-0e7a97f31412",
   "metadata": {},
   "outputs": [],
   "source": [
    "import subprocess\n",
    "import sys\n",
    "\n",
    "# Ask GRASS GIS where its Python packages are.\n",
    "# Choose GRASS based on operating system.\n",
    "if sys.platform == \"linux\":\n",
    "    grass_call = \"grass\"\n",
    "    shell_setting = False\n",
    "elif sys.platform == \"darwin\":\n",
    "    from pathlib import Path\n",
    "    grass_call = list(Path(\"/Applications\").glob(\"GRASS*\"))[0] / \"Contents\" / \"Resources\" / \"bin\" / \"grass\"\n",
    "    shell_setting = False\n",
    "elif sys.platform == \"win32\":\n",
    "    grass_call = \"grass80\"\n",
    "    shell_setting = True\n",
    "\n",
    "sys.path.append(\n",
    "    subprocess.check_output([grass_call, \"--config\", \"python_path\"], text=True, shell=shell_setting).strip()\n",
    ")\n",
    "\n",
    "# Import GRASS packages\n",
    "import grass.script as gs\n",
    "import grass.jupyter as gj\n",
    "\n",
    "# Start GRASS Session\n",
    "gj.init(\"../data\", \"nc_spm_08_grass7\", \"PERMANENT\")\n",
    "\n",
    "# Make a new mapset for this assignment\n",
    "gs.run_command(\"g.mapset\", mapset=\"HW3_water_simulation\", location=\"nc_spm_08_grass7\", flags=\"c\")"
   ]
  },
  {
   "cell_type": "markdown",
   "id": "c1f29471-00ee-48a0-b840-b81942823342",
   "metadata": {},
   "source": [
    "### 1. Compare flow accumulation derived by different algorithms\n",
    "\n",
    "First, we'll set region to the high resolution study area and render it."
   ]
  },
  {
   "cell_type": "code",
   "execution_count": null,
   "id": "5978dd51-09cc-49a3-a51d-43faaddfdef6",
   "metadata": {},
   "outputs": [],
   "source": [
    "# Set region to the high resolution study area\n",
    "gs.run_command(\"g.region\", region=\"rural_1m\")\n",
    "\n",
    "# Create Map instance\n",
    "gs.run_command(\"r.colors\", map=\"elevation\", co=\"elevation\")\n",
    "img = gj.Map(use_region=True)\n",
    "img.d_rast(map=\"elev_lid792_1m\")\n",
    "img.d_legend(raster=\"elev_lid792_1m\", at=(55, 95, 80, 84), flags=\"b\")\n",
    "# Display map\n",
    "img.show()"
   ]
  },
  {
   "cell_type": "markdown",
   "id": "542d3a51-cbeb-4e48-b575-579d587bcdc4",
   "metadata": {},
   "source": [
    "##### Least Cost Flow Routing with Multiple Flow Direction\n",
    "Then, we run least cost path flow routing with multiple flow direction (MFD), implemented with `r.watershed` ([GRASS manual for r.watershed](https://grass.osgeo.org/grass80/manuals/r.watershed.html)). We use the \"a\" flag to prevent negative values from partial watersheds that go over the edge of the DEM or outside the GRASS computation region."
   ]
  },
  {
   "cell_type": "code",
   "execution_count": null,
   "id": "b97d07ad-fda3-443a-a481-3e5178e548f8",
   "metadata": {},
   "outputs": [],
   "source": [
    "# Least Cost Flow Routing with MFD\n",
    "gs.run_command(\"r.watershed\", elevation=\"elev_lid792_1m\", threshold=5000, accumulation=\"accum_mfd5K\", drainage=\"draindir_5K\", basin=\"basin_mfd5K\", flags=\"a\")"
   ]
  },
  {
   "cell_type": "markdown",
   "id": "3e9f1a7e-067d-45ea-a6b1-00505d4c2a95",
   "metadata": {
    "tags": []
   },
   "source": [
    "##### Least Cost Flow Routing with Single Flow Direction\n",
    "#### *Question 1*\n",
    "    \n",
    "Use `r.watershed` to repeat the least cost path flow routing above but with single flow direction (SFD/D8). (hint: refer to the [GRASS manual for r.watershed](https://grass.osgeo.org/grass80/manuals/r.watershed.html) to find the appropriate flag. To add multiple flags, put all letters in the same quotations; for example, `flags=\"abc\"`.)"
   ]
  },
  {
   "cell_type": "code",
   "execution_count": null,
   "id": "cd4c1f2b-c96f-488a-add4-9f6285adec2c",
   "metadata": {},
   "outputs": [],
   "source": [
    "### Your Answer Here"
   ]
  },
  {
   "cell_type": "markdown",
   "id": "97f88899-40b5-4dc8-9157-21ae5b06668c",
   "metadata": {},
   "source": [
    "##### Vector-based Routing\n",
    "An alternative to MFD and SFD least cost flow routing is vector-based routing (D-inf). In GRASS, this is implemented with `r.flow` ([GRASS manual for r.flow](https://grass.osgeo.org/grass80/manuals/r.flow.html)). Here, we use `r.flow` to compute flowlines, flow length and flow accumulation."
   ]
  },
  {
   "cell_type": "code",
   "execution_count": null,
   "id": "d08d03bf-99bc-41a9-bee6-d7fcbecd1110",
   "metadata": {},
   "outputs": [],
   "source": [
    "gs.run_command(\"r.flow\", elevation=\"elev_lid792_1m\", flowline=\"flowlines\", flowlength=\"flowlg_vb\", flowaccumulation=\"flowacc_vb\")"
   ]
  },
  {
   "cell_type": "markdown",
   "id": "c817dcd6-7140-4858-b9f3-b539070af670",
   "metadata": {},
   "source": [
    "##### Comparison\n",
    "We will compare our results by looking at the streams created by each method. Here, we demonstrate the stream extraction process for the MFD routing. We extract the streams from the flow accumulation raster by setting cells greater than 100 to 1 and all others to `null`. We thin the result to one-cell width and convert to a vector so that the streams are represented by lines."
   ]
  },
  {
   "cell_type": "code",
   "execution_count": null,
   "id": "7b401340-aede-42a0-b6b0-677b249ec281",
   "metadata": {},
   "outputs": [],
   "source": [
    "# Extract Streams\n",
    "gs.mapcalc(\"{y} = if(abs({x}) > 100, 1, null())\".format(y=\"streams_mfd\", x=\"accum_mfd5K\"))\n",
    "\n",
    "# Thin to one-cell width\n",
    "gs.run_command(\"r.thin\", input=\"streams_mfd\", output=\"streams_mfd_t\")\n",
    "\n",
    "# Convert to vector\n",
    "gs.run_command(\"r.to.vect\", input=\"streams_mfd_t\", out=\"streams_mfd_t\", type=\"line\", flags=\"s\")"
   ]
  },
  {
   "cell_type": "markdown",
   "id": "90ea8e98-657d-450a-b998-3974f33fa99e",
   "metadata": {
    "tags": []
   },
   "source": [
    "#### *Question 2*\n",
    "\n",
    "Repeat stream extraction process for SFD and vector-based flow routing."
   ]
  },
  {
   "cell_type": "code",
   "execution_count": null,
   "id": "02a0491a-6538-4bbf-8704-d9dbc75226a8",
   "metadata": {},
   "outputs": [],
   "source": [
    "### Your Answer Here"
   ]
  },
  {
   "cell_type": "markdown",
   "id": "77055a24-a224-472b-ac5e-10922ac46527",
   "metadata": {},
   "source": [
    "#### *Question 3*\n",
    "\n",
    "Use `grass.jupyter.InteractiveMap` to visually compare the resulting stream paths and the flow accumulations, including the official Wake County streams found in `PERMANENT` (`streams@PERMANENT`)."
   ]
  },
  {
   "cell_type": "code",
   "execution_count": null,
   "id": "c45970c2-115c-4a99-9b90-88163a35749a",
   "metadata": {},
   "outputs": [],
   "source": [
    "### Your Answer Here"
   ]
  },
  {
   "cell_type": "markdown",
   "id": "a94eb658-8d5e-45e0-a6db-b54237a38506",
   "metadata": {},
   "source": [
    "### 2. Create a map of flooded area\n",
    "We create a map of flooded area with `r.lake` ([GRASS manual for r.lake](https://grass.osgeo.org/grass80/manuals/r.lake.html)) by providing a water level and a seed point:"
   ]
  },
  {
   "cell_type": "code",
   "execution_count": null,
   "id": "33d815e6-566a-4fac-9c40-d3a741937619",
   "metadata": {},
   "outputs": [],
   "source": [
    "gs.run_command(\"r.lake\", elevation=\"elev_lid792_1m\", water_level=113.5, lake=\"flood1\", coordinates=\"638728,220278\")\n",
    "\n",
    "# See results\n",
    "img = gj.Map(use_region=True)\n",
    "img.d_rast(map=\"elev_lid792_1m\")\n",
    "img.d_rast(map=\"flood1\")\n",
    "# Display map\n",
    "img.show()"
   ]
  },
  {
   "cell_type": "markdown",
   "id": "b46f7388-6f33-496b-bc36-de321d370641",
   "metadata": {},
   "source": [
    "#### *Question 4*\n",
    "\n",
    "Increase water level to 113.7m and 114.0m and create flooded area maps at these two levels."
   ]
  },
  {
   "cell_type": "code",
   "execution_count": null,
   "id": "f0fdae76-444c-476e-b03c-ec2a73320c62",
   "metadata": {},
   "outputs": [],
   "source": [
    "#### Your Answer Here"
   ]
  },
  {
   "cell_type": "markdown",
   "id": "521ecedb-4993-42d6-9342-239f17dab323",
   "metadata": {},
   "source": [
    "### 3. Estimating inundation extent using HAND methodology\n",
    "\n",
    "We will use two GRASS addons, `r.stream.distance` and `r.lake.series`, to estimate inundation with Height Above Nearest Drainage methodology (A.D. Nobre, 2011). We need to install them first:"
   ]
  },
  {
   "cell_type": "code",
   "execution_count": null,
   "id": "c67361ec-432d-4307-8368-acf603ecb099",
   "metadata": {},
   "outputs": [],
   "source": [
    "!g.extension r.stream.distance\n",
    "!g.extension r.lake.series"
   ]
  },
  {
   "cell_type": "markdown",
   "id": "f378df22-cdf1-42e9-8448-64dd3d17dfed",
   "metadata": {},
   "source": [
    "For this section, we will change our computation region to `elevation` which is a larger study area than we used above. Because we are using a new region (and also a higher threshold of 100,000), we need to run `r.watershed` again to compute the flow accumulation, drainage and streams. We convert the streams to vector for better visualization."
   ]
  },
  {
   "cell_type": "code",
   "execution_count": null,
   "id": "1284f257-6fc0-4774-a705-1c35bf28f59a",
   "metadata": {},
   "outputs": [],
   "source": [
    "gs.run_command(\"g.region\", raster=\"elevation\")\n",
    "gs.run_command(\"r.watershed\", elevation=\"elevation\", accumulation=\"flowacc\", drainage=\"drainage\", stream=\"streams_100k\", threshold=100000)\n",
    "gs.run_command(\"r.to.vect\", input=\"streams_100k\", output=\"streams_100k\", type=\"line\")"
   ]
  },
  {
   "cell_type": "markdown",
   "id": "17f00800-548d-40fe-b58b-72d9285813fe",
   "metadata": {},
   "source": [
    "Now we use `r.stream.distance` with output parameter difference to compute new raster where each cell is the elevation difference between the cell and the the cell on the stream where the cell drains. This is our HAND terrain model."
   ]
  },
  {
   "cell_type": "code",
   "execution_count": null,
   "id": "8aaeb3e9-5678-452e-8073-0ef513db8036",
   "metadata": {},
   "outputs": [],
   "source": [
    "gs.run_command(\"r.stream.distance\", stream_rast=\"streams_100k\", direction=\"drainage\", elevation=\"elevation\", method=\"downstream\", difference=\"above_stream\")"
   ]
  },
  {
   "cell_type": "markdown",
   "id": "ddc31de5-cd6b-4a54-b89c-511ab5faef25",
   "metadata": {},
   "source": [
    "Before we compute the inundation, we will look at how `r.lake` works. We compute a lake from specified coordinate and water level:"
   ]
  },
  {
   "cell_type": "code",
   "execution_count": null,
   "id": "96056bdd-a888-4b94-9f38-38e96182ac46",
   "metadata": {},
   "outputs": [],
   "source": [
    "gs.run_command(\"r.lake\", elevation=\"elevation\", water_level=90, lake=\"lake\", coordinates=\"637877,218475\")\n",
    "\n",
    "# See results\n",
    "img = gj.Map(use_region=True)\n",
    "img.d_rast(map=\"elevation\")\n",
    "img.d_rast(map=\"lake\")\n",
    "img.d_legend(raster=\"elevation\", at=(55, 95, 80, 84), flags=\"b\")\n",
    "# Display map\n",
    "img.show()"
   ]
  },
  {
   "cell_type": "markdown",
   "id": "ef8a3335-3783-48f0-942e-55cddeda58d6",
   "metadata": {},
   "source": [
    "Now instead of elevation raster we use the HAND raster to simulate 5-meter inundation and, as the seed, we specify the entire stream instead of a single point."
   ]
  },
  {
   "cell_type": "code",
   "execution_count": null,
   "id": "0ebcfa83-af75-4836-b778-e3eb076997db",
   "metadata": {},
   "outputs": [],
   "source": [
    "gs.run_command(\"r.lake\", elevation=\"above_stream\", water_level=5, lake=\"flood\", seed=\"streams_100k\")"
   ]
  },
  {
   "cell_type": "markdown",
   "id": "0b8d6483-7154-44dd-8816-5b842d2aa85d",
   "metadata": {},
   "source": [
    "With `r.lake.series`, we can create a series of inundation maps with rising water levels. `r.lake.series` creates a space-time dataset. We can use temporal modules to further work with the data. For example, we could further compute the volume and extent of flood water using `t.rast.univar`."
   ]
  },
  {
   "cell_type": "code",
   "execution_count": null,
   "id": "8a8f3236-0009-44a4-9430-2a72b7e13513",
   "metadata": {},
   "outputs": [],
   "source": [
    "gs.run_command(\"r.lake.series\", elevation=\"above_stream\", start_water_level=0, end_water_level=5, water_level_step=0.5, \n",
    "               output=\"inundation\", seed_raster=\"streams\")\n",
    "\n",
    "print(gs.read_command(\"t.rast.univar\", input=\"inundation\", separator=\"comma\"))"
   ]
  },
  {
   "cell_type": "markdown",
   "id": "cb270a16-61a8-45df-b640-ec7757eda8d8",
   "metadata": {},
   "source": [
    "#### *Question 5*: Visualize Results\n",
    "Use `grass.jupyter.TimeSeriesMap` to create an animation of the inundation."
   ]
  },
  {
   "cell_type": "code",
   "execution_count": null,
   "id": "2c6ff16b-1ef2-47d9-803d-3b9bab56fbc3",
   "metadata": {},
   "outputs": [],
   "source": [
    "### Your Code Here"
   ]
  },
  {
   "cell_type": "markdown",
   "id": "09a12a5a-8491-446a-adf1-31fbc0b23a64",
   "metadata": {
    "tags": []
   },
   "source": [
    "#### \\[Optional\\] *Question 6*: Create an animation in MapBox GL\n",
    "Run the cells below then follow the [grass-mapbox-tutorial](https://github.com/ncsu-geoforall-lab/grass-mapbox-tutorial).\n",
    "\n",
    "Here, we export each raster as a png and get the bounding box of the computational region in WGS84. We'll do this with the `r.out.leaflet.py` script from the grass-web-publishing GitHub repo. First, clone the plugin using git."
   ]
  },
  {
   "cell_type": "code",
   "execution_count": null,
   "id": "57401fe9-18b3-4b05-8861-aba27237497b",
   "metadata": {},
   "outputs": [],
   "source": [
    "!git clone https://github.com/ncsu-geoforall-lab/grass-web-publishing.git"
   ]
  },
  {
   "cell_type": "markdown",
   "id": "96d95843-1c1d-4316-89c4-b1e648785b6d",
   "metadata": {},
   "source": [
    "Now, we'll make a new directory to store our png images and bounding box file. Then, we run the r.out.leaflet.py python script."
   ]
  },
  {
   "cell_type": "code",
   "execution_count": null,
   "id": "0cc1be17-8d3e-49ab-8390-d0c15fa20b83",
   "metadata": {},
   "outputs": [],
   "source": [
    "!mkdir images\n",
    "!python3 grass-web-publishing/r.out.leaflet/r.out.leaflet.py raster=\"inundation_0.0,inundation_0.5,inundation_1.0,inundation_1.5,inundation_2.0,inundation_2.5,inundation_3.0,inundation_3.5,inundation_4.0,inundation_4.5,inundation_5.0\" output=\"./images\""
   ]
  },
  {
   "cell_type": "markdown",
   "id": "9bbd83c7-b2cd-4993-a2c7-7bbcd89f0a90",
   "metadata": {},
   "source": [
    "You will now see a few new files in the images directory\n",
    "\n",
    "* data_file.csv    \n",
    "*  data_file.js\n",
    "* New pngs\n",
    "\n",
    "If you are running this through Binder, download the images folder so you have it for the next section.\n",
    "\n",
    "To add the newly output pngs to a web map continue by following the instructions found in the next tutorial here:\n",
    "\n",
    "[https://github.com/ncsu-geoforall-lab/grass-mapbox-tutorial](https://github.com/ncsu-geoforall-lab/grass-mapbox-tutorial)"
   ]
  },
  {
   "cell_type": "markdown",
   "id": "5f79224b-1e8f-4e6a-9340-95ea580204da",
   "metadata": {},
   "source": [
    "### Additional Information\n",
    "* [Website](https://github.com/ncsu-geoforall-lab/geospatial-simulations-course)\n",
    "    \n",
    "* [Computing Help](https://help.ncsu.edu/)\n",
    "    \n",
    "* [GIST Home](https://geospatial.ncsu.edu/)\n",
    "    \n",
    "* [Disclaimer](https://www.ncsu.edu/policies/prr-disclaimer.php)\n",
    "    \n",
    "* [Accessibility](https://oit.ncsu.edu/itaccess)\n",
    "\n",
    "* License: 2018 [CC BY-SA](https://creativecommons.org/licenses/by-sa/4.0/)\n",
    "  \n",
    "* [NCSU GeoForAll Lab](https://geospatial.ncsu.edu/geoforall/)"
   ]
  }
 ],
 "metadata": {
  "kernelspec": {
   "display_name": "Python 3 (ipykernel)",
   "language": "python",
   "name": "python3"
  },
  "language_info": {
   "codemirror_mode": {
    "name": "ipython",
    "version": 3
   },
   "file_extension": ".py",
   "mimetype": "text/x-python",
   "name": "python",
   "nbconvert_exporter": "python",
   "pygments_lexer": "ipython3",
   "version": "3.10.9"
  }
 },
 "nbformat": 4,
 "nbformat_minor": 5
}
