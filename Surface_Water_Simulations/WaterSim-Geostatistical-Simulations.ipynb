{
 "cells": [
  {
   "cell_type": "markdown",
   "id": "b0113e78-9cee-4c48-8477-e6a395868755",
   "metadata": {},
   "source": [
    "#### NCSU GIS 714: Geospatial Computation and Simulations\n",
    "\n",
    "## Surface Water Simulation: Geostatistical Simulations\n",
    "\n",
    "This assignment was adapted from [\n",
    "A Practical Guide to Geostatistical Mapping](http://spatial-analyst.net/book/system/files/Hengl_2009_GEOSTATe2c1w.pdf) by T. Hengl.\n",
    "\n",
    "Contents:\n",
    "1. Start GRASS GIS\n",
    "2. Compute a smooth DEM and extract stream network from point data\n",
    "3. Estimate the uncertainty in extracted streams with R\n",
    "\n",
    "Additional Resources:\n",
    "* [GRASS GIS Overview and Manual](https://grass.osgeo.org/grass-stable/manuals/index.html)\n",
    "* [GRASS book](http://www.grassbook.org/)"
   ]
  },
  {
   "cell_type": "markdown",
   "id": "4c8f32e8-c74f-46ef-9168-462059e30fcc",
   "metadata": {},
   "source": [
    "### 1. Start GRASS GIS"
   ]
  },
  {
   "cell_type": "markdown",
   "id": "cdfc52b5-57f8-4f9b-9a89-1df4bc107182",
   "metadata": {},
   "source": [
    "Launch GRASS GIS and create a new location (baranjahill) and mapset for this assignment:"
   ]
  },
  {
   "cell_type": "code",
   "execution_count": null,
   "id": "4f4f399b-a280-423a-a0b5-6e4e10f5ea0e",
   "metadata": {},
   "outputs": [],
   "source": [
    "import subprocess\n",
    "import sys\n",
    "import shutil\n",
    "\n",
    "# Ask GRASS GIS where its Python packages are.\n",
    "# Choose GRASS based on operating system.\n",
    "if sys.platform == \"linux\":\n",
    "    grass_call = \"grass\"\n",
    "    shell_setting = False\n",
    "elif sys.platform == \"darwin\":\n",
    "    from pathlib import Path\n",
    "    grass_call = list(Path(\"/Applications\").glob(\"GRASS*\"))[0] / \"Contents\" / \"Resources\" / \"bin\" / \"grass\"\n",
    "    shell_setting = False\n",
    "elif sys.platform == \"win32\":\n",
    "    grass_call = \"grass80\"\n",
    "    shell_setting = True\n",
    "sys.path.append(\n",
    "    subprocess.check_output([grass_call, \"--config\", \"python_path\"], text=True, shell=shell_setting).strip()\n",
    ")\n",
    "\n",
    "# Import GRASS packages\n",
    "import grass.script as gs\n",
    "import grass.jupyter as gj\n",
    "\n",
    "# Start new GRASS session in new location\n",
    "gj.init(\"../data\", \"baranjahill\", \"PERMANENT\")\n",
    "\n",
    "# Make a new mapset for this assignment\n",
    "gs.run_command(\"g.mapset\", flags=\"c\", mapset=\"HW3_geostat_simulation\", location=\"baranjahill\")"
   ]
  },
  {
   "cell_type": "markdown",
   "id": "f6096787-c7a4-4fa7-b60a-26d9b516f98d",
   "metadata": {},
   "source": [
    "Now, let's take a quick look at the baranjahill elevation data"
   ]
  },
  {
   "cell_type": "code",
   "execution_count": null,
   "id": "76ecabdf-5286-43b9-ac67-111170d84510",
   "metadata": {},
   "outputs": [],
   "source": [
    "# Set region to the high resolution study area\n",
    "gs.run_command(\"g.region\", vector=\"elevations\")\n",
    "\n",
    "# Check out the points\n",
    "img = gj.Map(use_region=True)\n",
    "img.d_vect(map=\"elevations\")\n",
    "# Display map\n",
    "img.show()"
   ]
  },
  {
   "cell_type": "markdown",
   "id": "0904b325-717c-4212-9271-6636f8acb0d9",
   "metadata": {
    "tags": []
   },
   "source": [
    "#### *Question 1*\n",
    "\n",
    "Get the basic information about the data, such as number of points, attribute names, and univariate statistics (modules: _[v.info](https://grass.osgeo.org/grass80/manuals/v.info.html)_, _[v.univar](https://grass.osgeo.org/grass80/manuals/v.univar.html)_). Display the points with a 1km grid (module: _[d.grid](https://grass.osgeo.org/grass80/manuals/d.grid.html)_, use `img.d_grid(size=1000, color=\"blue\")` with Map) to show the scale of the dataset. Looking at the spatial pattern, how they might have been acquired?"
   ]
  },
  {
   "cell_type": "code",
   "execution_count": null,
   "id": "0c7221a6-6244-4495-a41a-6dee10976dd1",
   "metadata": {},
   "outputs": [],
   "source": [
    "### Your Answer Here"
   ]
  },
  {
   "cell_type": "markdown",
   "id": "2e7a0eb4-bbcf-423c-b800-0f25fca005e8",
   "metadata": {},
   "source": [
    "Next, let's compute a histogram of the data distribution. We bin the points to 10m resolution grid and then create the histogram. The region is set to match grid created by R's spsample function, used later in the notebook."
   ]
  },
  {
   "cell_type": "code",
   "execution_count": null,
   "id": "d4659e42-b0c2-435d-a5da-a281a2d2716c",
   "metadata": {
    "tags": []
   },
   "outputs": [],
   "source": [
    "gs.run_command(\"g.region\", vector=\"elevations\", res=10, flags=\"p\")\n",
    "gs.run_command(\"v.to.rast\", input=\"elevations\", out=\"elevations_bin10m\", type=\"point\", use=\"attr\", attr=\"VALUE\")\n",
    "\n",
    "img = gj.Map(use_region=True)\n",
    "img.d_histogram(map=\"elevations_bin10m\")\n",
    "img.show()"
   ]
  },
  {
   "cell_type": "markdown",
   "id": "edbaa065-b3f7-46a6-a466-9b8d4aff0aec",
   "metadata": {},
   "source": [
    "#### *Question 2*\n",
    "Can you explain the discrete spikes in the histogram?"
   ]
  },
  {
   "cell_type": "code",
   "execution_count": null,
   "id": "3b31b91f-0b43-4ee7-b6b5-82720b5f2500",
   "metadata": {},
   "outputs": [],
   "source": [
    "#### Your Answer Here"
   ]
  },
  {
   "cell_type": "markdown",
   "id": "2a4532b0-5acd-4b55-b4e1-1551bee7fae0",
   "metadata": {},
   "source": [
    "### 2. Compute a smooth DEM and extract stream network"
   ]
  },
  {
   "cell_type": "markdown",
   "id": "63b994fe-a8cf-4fe7-a9af-7517593287f1",
   "metadata": {},
   "source": [
    "#### *Question 3*\n",
    "\n",
    "Interpolate a smooth DEM from the points using spline with tension. Also compute slope, aspect and curvatures to visualize the surface and its parameters (hint: we computed a smooth DEM from LiDAR points in Assignment 2B). Display the results with `InteractiveMap`. Then, extract the streams using a threshold of 300 and single-flow direction routing. Display the resulting streams (as a vector) and DEM with `Map`."
   ]
  },
  {
   "cell_type": "code",
   "execution_count": null,
   "id": "e47997fc-3f9d-42f9-b2d1-ec819d6cf969",
   "metadata": {},
   "outputs": [],
   "source": [
    "#### Your Answer Here"
   ]
  },
  {
   "cell_type": "markdown",
   "id": "bb442fe7-9c9a-4010-bc65-8f1cb4d91fb2",
   "metadata": {
    "tags": []
   },
   "source": [
    "### 3. Estimate the uncertainty in extracted streams\n",
    "\n",
    "Stream uncertainty arises from differences between a DEM and the actual surface. DEMs created from sparse points force us to interpolate the surface in between the points. This interpolation introduces uncertainty into the flow path of the stream. We will estimate uncertainty in the extracted streams due to elevation noise using a combination of R and GRASS GIS tools. We  use  an isotropic model variogram to measure the spatial dependence of elevation points. The isotropic model is appropriate here since there is no strong directionality in the ridges or valleys in our study area (i.e.  all theridges do not run N-S). With the variogram and original elevation points, we simulate 100 different surfaces and flow accumulation paths. \n",
    "\n",
    "\n",
    "#### FOR RUNNING LOCALLY\n",
    "If you're running this in Binder, these packages have already been installed so you can skip the *Install rgrass* section. \n",
    "\n",
    "To run this on your local machine, you need to have R already installed.\n",
    "\n",
    "You may need install some additional packages. First, we'll install the iteractive kernel to run R in Jupyter Notebooks. Here's an example with pip. If you use another python package management system (such as conda), this may not work for you."
   ]
  },
  {
   "cell_type": "code",
   "execution_count": null,
   "id": "dbc20cb1-ad6b-4660-8b0b-b660f9dc1c34",
   "metadata": {},
   "outputs": [],
   "source": [
    "# Install Interactive Kernel for R\n",
    "!pip install rpy2==3.1.0"
   ]
  },
  {
   "cell_type": "markdown",
   "id": "cd88a73d-81e1-477e-aeb9-0bb6ca82d06d",
   "metadata": {},
   "source": [
    "After installing the interactive R kernel, we load it."
   ]
  },
  {
   "cell_type": "code",
   "execution_count": null,
   "id": "4d537ebc-2336-40f1-b749-1ea6216b2e8b",
   "metadata": {},
   "outputs": [],
   "source": [
    "%load_ext rpy2.ipython"
   ]
  },
  {
   "cell_type": "markdown",
   "id": "1fd8cca4-4d08-45e8-9f08-be88df5bca1a",
   "metadata": {},
   "source": [
    "Now, we can use the `%%R` cell magic. When this cell is interpreted, it's contents will be sent to R. We could also use line magic now with `%R` which would only send the line to R. \n",
    "\n",
    "We'll need to install several R packages and download rgrass from github."
   ]
  },
  {
   "cell_type": "code",
   "execution_count": null,
   "id": "f34dfe40-1170-4a7a-b005-674f18b55073",
   "metadata": {},
   "outputs": [],
   "source": [
    "%%R\n",
    "install.packages(c(\"rgdal\", \"gstat\", \"geoR\", \"devtools\", \"IRkernel\"))\n",
    "devtools::install_git(\"https://github.com/rsbivand/rgrass\")"
   ]
  },
  {
   "cell_type": "markdown",
   "id": "f0a694af-e693-46df-b736-d8b643718721",
   "metadata": {
    "tags": []
   },
   "source": [
    "#### FOR RUNNING IN BINDER"
   ]
  },
  {
   "cell_type": "markdown",
   "id": "8dc1f4a8-084e-4029-9f47-ae55cdbc9955",
   "metadata": {},
   "source": [
    "Make sure the interactive kernel is loaded so we can use `%%R` cell magic. Then install rgrass from GitHub."
   ]
  },
  {
   "cell_type": "code",
   "execution_count": null,
   "id": "e96a5f2b-3940-4639-8543-eee6da3ec3cb",
   "metadata": {},
   "outputs": [],
   "source": [
    "%load_ext rpy2.ipython"
   ]
  },
  {
   "cell_type": "code",
   "execution_count": null,
   "id": "a8fd8a9e-bdcd-4a3d-aa2d-640258a496e9",
   "metadata": {
    "tags": []
   },
   "outputs": [],
   "source": [
    "%%R\n",
    "devtools::install_git(\"https://github.com/rsbivand/rgrass\")"
   ]
  },
  {
   "cell_type": "markdown",
   "id": "8013f73a-684a-438c-9e3d-49fac0b62244",
   "metadata": {},
   "source": [
    "#### Simulating DEMs with a Variogram"
   ]
  },
  {
   "cell_type": "markdown",
   "id": "36729f3d-2eb3-49aa-97b0-59ac1a026edb",
   "metadata": {},
   "source": [
    "Read in libraries:"
   ]
  },
  {
   "cell_type": "code",
   "execution_count": null,
   "id": "e1a7b43e-815d-475d-903b-4798eea6bf3e",
   "metadata": {
    "tags": []
   },
   "outputs": [],
   "source": [
    "%%R\n",
    "library(rgrass7)\n",
    "library(rgdal)\n",
    "library(gstat)\n",
    "library(geoR)\n",
    "use_sp()"
   ]
  },
  {
   "cell_type": "markdown",
   "id": "f64a7e60-ac54-473f-a0e9-aae7a5ab3e11",
   "metadata": {},
   "source": [
    "Read in elevation vector:"
   ]
  },
  {
   "cell_type": "code",
   "execution_count": null,
   "id": "cf679a0f-7a49-4ab2-b069-1eb16a39c319",
   "metadata": {},
   "outputs": [],
   "source": [
    "%%R\n",
    "elevations <- readVECT(\"elevations\")"
   ]
  },
  {
   "cell_type": "markdown",
   "id": "c8d277ea-a1c5-4079-baac-ee16ee42274f",
   "metadata": {},
   "source": [
    "Subsample data and explore distribution of values in the data."
   ]
  },
  {
   "cell_type": "code",
   "execution_count": null,
   "id": "a72c1bc8-c7ca-454e-a0f9-7862981a6354",
   "metadata": {},
   "outputs": [],
   "source": [
    "%%R\n",
    "sel <- runif(length(elevations@data[[2]])) < 0.2\n",
    "Z.geo <- as.geodata(elevations[sel,\"VALUE\"])\n",
    "plot(Z.geo, qt.col=grey(runif(4)))"
   ]
  },
  {
   "cell_type": "markdown",
   "id": "922e0d24-9811-43df-803d-2f481c6c6231",
   "metadata": {},
   "source": [
    "#### *Question 4*\n",
    "\n",
    "How is the data subsampled in the code above? Why do we need to subset the data?"
   ]
  },
  {
   "cell_type": "code",
   "execution_count": null,
   "id": "c89ebbb4-4b6f-462a-800f-58ecf0d72f6e",
   "metadata": {},
   "outputs": [],
   "source": [
    "#### Your Answer Here"
   ]
  },
  {
   "cell_type": "markdown",
   "id": "dbcb5989-2fb4-4e8e-b94f-34fcac8df1ce",
   "metadata": {},
   "source": [
    "We plot empirical variogram in four directions using the subsampled data, Then we fit \n",
    "isotropic model variogram using the Matern covariance function:"
   ]
  },
  {
   "cell_type": "code",
   "execution_count": null,
   "id": "5e83cc80-6f60-44ac-80ad-8ca5a155874e",
   "metadata": {},
   "outputs": [],
   "source": [
    "%%R\n",
    "plot(variog4(Z.geo, max.dist=1000, messages=FALSE), lwd=2)\n",
    "Z.svar <- variog(Z.geo, max.dist=1000, messages=FALSE)\n",
    "Z.vgm <- variofit(Z.svar, ini=c(var(Z.geo$data), 1000), fix.nugget=T, nugget=0)\n",
    "env.model <- variog.model.env(Z.geo, obj.var=Z.svar, model=Z.vgm)\n",
    "plot(Z.svar, envelope=env.model); lines(Z.vgm, lwd=2);"
   ]
  },
  {
   "cell_type": "markdown",
   "id": "e4464af5-36ef-4d41-aefe-03de399150fb",
   "metadata": {},
   "source": [
    "Compute 100 realizations of a DEM (10m resolution) using Stochastic Conditional Gaussian Simulation\n",
    "with Matern covariance function (this may take few minutes so be patient). Plot the first 4 simulations.\n",
    "\n",
    "Note: Running this block without the spTransform lines, results in an error in Binder saying the projections don't match. It's unclear where this unexpected behavior comes from but we should fix it in the future."
   ]
  },
  {
   "cell_type": "code",
   "execution_count": null,
   "id": "dd720808-c5db-438a-959c-ca1bb3450bff",
   "metadata": {},
   "outputs": [],
   "source": [
    "%%R\n",
    "demgrid <- spsample(elevations, type=\"regular\", cellsize=c(10,10), offset=c(0.5,0.5))\n",
    "gridded(demgrid) <- TRUE\n",
    "fullgrid(demgrid) <- TRUE\n",
    "elevations <-  spTransform(elevations, CRS=CRS(\"+proj=utm +zone=34 +datum=WGS84 +units=m +no_defs +ellps=WGS84 +towgs84=0,0,0\"))\n",
    "Z.ovgm <- vgm(psill=Z.vgm$cov.pars[1], model=\"Mat\", range=Z.vgm$cov.pars[2], nugget=Z.vgm$nugget, kappa=1.2)\n",
    "N.sim <- 100\n",
    "DEM.sim <- krige(elevations$VALUE ~ 1, elevations, demgrid, Z.ovgm, nmax=30, nsim=N.sim)\n",
    "fullgrid(DEM.sim) <- TRUE\n",
    "spplot(DEM.sim[1:4], col.regions=grey(seq(0,1,0.025)))"
   ]
  },
  {
   "cell_type": "markdown",
   "id": "47acbcaf-4d71-4abb-b1a2-b0854112dec0",
   "metadata": {},
   "source": [
    "Save simulated elevation rasters as GRASS rasters (`writeRAST`), compute a mean simulated DEM and its standard deviation. The mean of elevations rasters is the final simulated  DEM  surface  and  the  standard  deviation of all the simulated elevation rasters describes the elevation uncertainty. Finally, we derive streams from each of the simulated DEMs:"
   ]
  },
  {
   "cell_type": "code",
   "execution_count": null,
   "id": "38ca5e35-cf3b-4262-9d50-202108a46ef3",
   "metadata": {},
   "outputs": [],
   "source": [
    "%%R\n",
    "# Save elevation rasters to GRASS\n",
    "for(i in 1:N.sim) {writeRAST(DEM.sim[i], paste(\"simulated_\", i, sep=\"\"))}\n",
    "\n",
    "# Compute mean DEM and standard deviation\n",
    "execGRASS(\"g.list\", type=\"raster\", pattern=\"simulated_*\", output=\"tmp_list_simulated.txt\")\n",
    "execGRASS(\"r.series\", file=\"tmp_list_simulated.txt\", output=\"simulated_mean\", method=\"average\")\n",
    "execGRASS(\"r.series\", file=\"tmp_list_simulated.txt\", output=\"simulated_std\", method=\"stddev\")\n",
    "\n",
    "# Derive Streams for each elevation raster (output is rasters)\n",
    "for(i in 1:N.sim) {execGRASS(\"r.watershed\", elevation=paste(\"simulated_\", i, sep=\"\"),\n",
    " threshold=30, stream=paste(\"stream_\", i, sep=\"\"), flags=c(\"quiet\"))}"
   ]
  },
  {
   "cell_type": "markdown",
   "id": "2f5a4ff5-8056-4a69-a057-e6dd6e9a5d7e",
   "metadata": {},
   "source": [
    "Compute number of streams extracted at each 10m grid cell (count), derive probability that a grid cell has a stream and associated error map. \n",
    "\n",
    "We count the number of simulated streams that flow through each pixel and divide by the number of simulations(100), yielding the probability a given pixel actually contains a stream. We'll keep using `rgrass` here since we need `N.sim`, a variable stored in R."
   ]
  },
  {
   "cell_type": "code",
   "execution_count": null,
   "id": "6265e2f8-9563-4839-ba96-a55e297e71fb",
   "metadata": {},
   "outputs": [],
   "source": [
    "%%R\n",
    "execGRASS(\"g.list\", type=\"raster\", pattern=\"stream*\", output=\"tmp_list_stream.txt\")\n",
    "execGRASS(\"r.series\", file=\"tmp_list_stream.txt\", output=\"count\", method=\"count\")\n",
    "execGRASS(\"r.mapcalc\", expression=paste(\"prob = float(count)/\", N.sim))\n",
    "execGRASS(\"r.mapcalc\", expression=\"error = -prob * log(prob) - (1-prob)* log(1-prob)\")"
   ]
  },
  {
   "cell_type": "markdown",
   "id": "d0496849-ab1e-448e-bf16-3765a6f42179",
   "metadata": {},
   "source": [
    "Now, we can switch back to python to visualize and compare our results."
   ]
  },
  {
   "cell_type": "markdown",
   "id": "b11c7499-cfe5-429a-9196-f7c56b54c93b",
   "metadata": {},
   "source": [
    "#### *Question 6*\n",
    "\n",
    "Modify the code below to compare the splined DEM from Question 3 with the simulated mean (`simulated_mean`) and a single realization i=10 (`simulated_10`) (hint: you can copy a color table from one raster to another with r.colors. For example, `gs.run_command(\"r.colors\", map=\"simulated\", raster=\"interpolated\")`). Comment briefly on the differences."
   ]
  },
  {
   "cell_type": "code",
   "execution_count": null,
   "id": "e0ed2d38-f86a-467a-966d-67b0d0ad4d5e",
   "metadata": {},
   "outputs": [],
   "source": [
    "#### Your Answer Here\n",
    "gs.run_command(\"r.colors\", map=\"simulated_mean\", raster=\"\")\n",
    "\n",
    "# Create Interactive Map\n",
    "fig = gj.InteractiveMap(width = 600, use_region=True)\n",
    "fig.add_raster(\"\", opacity=1.0)\n",
    "fig.add_raster(\"\", opacity=1.0)\n",
    "fig.add_raster(\"\", opacity=1.0)\n",
    "fig.show()"
   ]
  },
  {
   "cell_type": "markdown",
   "id": "c7e409ca-15b3-46b1-ad5d-a1fa4bbfeeb4",
   "metadata": {},
   "source": [
    "Let's look at the standard deviation of the simluated elevations."
   ]
  },
  {
   "cell_type": "code",
   "execution_count": null,
   "id": "a6047290-6253-44f1-8243-acd54f2d4868",
   "metadata": {},
   "outputs": [],
   "source": [
    "gs.run_command(\"r.colors\", map=\"simulated_std\", color=\"plasma\")\n",
    "\n",
    "# Create Interactive Map\n",
    "fig = gj.InteractiveMap(width = 600, use_region=True)\n",
    "fig.add_raster(\"simulated_std\", opacity=0.8)\n",
    "fig.show()"
   ]
  },
  {
   "cell_type": "markdown",
   "id": "ade99d1e-aa5f-46d6-9723-a39ac8460142",
   "metadata": {
    "tags": []
   },
   "source": [
    "#### *Question 7*\n",
    "Can you explain the pattern of standard deviations in `simulated_std` (hint: add the elevations point layer)?"
   ]
  },
  {
   "cell_type": "code",
   "execution_count": null,
   "id": "8f1c6f01-7b4e-42f9-b9e7-a02431401320",
   "metadata": {},
   "outputs": [],
   "source": [
    "#### Your Answer Here"
   ]
  },
  {
   "cell_type": "markdown",
   "id": "3d4c4533-c200-4dae-9df9-6d85cf433da2",
   "metadata": {
    "tags": []
   },
   "source": [
    "#### *Question 8*\n",
    "Subtract the interpolated DEM from Question 3 from the simulated DEM (`simulated_mean`) and display the results. Comment on the pattern."
   ]
  },
  {
   "cell_type": "code",
   "execution_count": null,
   "id": "e91324ea-59af-4dca-84b9-971ffe3185da",
   "metadata": {},
   "outputs": [],
   "source": [
    "#### Your Answer Here"
   ]
  },
  {
   "cell_type": "markdown",
   "id": "a8c23d72-8d85-4f58-a77b-1e66e816b41c",
   "metadata": {},
   "source": [
    "#### *Question 9*\n",
    "Use `Map3D` to drape the probability raster `prob` over elevation layer `simulated_mean` in 3D. Where is the high probability of streams and where we cannot map the streams reliably? Which topographic parameter may explain the stream extraction uncertainty?"
   ]
  },
  {
   "cell_type": "code",
   "execution_count": null,
   "id": "fe5db040-ae4b-4c02-b354-f5d05937bfaf",
   "metadata": {},
   "outputs": [],
   "source": [
    "### Your Answer Here."
   ]
  },
  {
   "cell_type": "markdown",
   "id": "b2bff8b3-a043-4c19-a55f-521c5e71a4de",
   "metadata": {},
   "source": [
    "### Additional Information\n",
    "* [Website](https://github.com/ncsu-geoforall-lab/geospatial-simulations-course)\n",
    "    \n",
    "* [Computing Help](https://help.ncsu.edu/)\n",
    "    \n",
    "* [GIST Home](https://geospatial.ncsu.edu/)\n",
    "    \n",
    "* [Disclaimer](https://www.ncsu.edu/policies/prr-disclaimer.php)\n",
    "    \n",
    "* [Accessibility](https://oit.ncsu.edu/itaccess)\n",
    "\n",
    "* License: 2018 [CC BY-SA](https://creativecommons.org/licenses/by-sa/4.0/)\n",
    "  \n",
    "* [NCSU GeoForAll Lab](https://geospatial.ncsu.edu/geoforall/)"
   ]
  }
 ],
 "metadata": {
  "kernelspec": {
   "display_name": "Python 3 (ipykernel)",
   "language": "python",
   "name": "python3"
  },
  "language_info": {
   "codemirror_mode": {
    "name": "ipython",
    "version": 3
   },
   "file_extension": ".py",
   "mimetype": "text/x-python",
   "name": "python",
   "nbconvert_exporter": "python",
   "pygments_lexer": "ipython3",
   "version": "3.10.9"
  }
 },
 "nbformat": 4,
 "nbformat_minor": 5
}
